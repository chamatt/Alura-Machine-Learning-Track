{
 "cells": [
  {
   "cell_type": "markdown",
   "metadata": {
    "button": false,
    "colab_type": "text",
    "deletable": true,
    "id": "W4bTJkJED0-t",
    "new_sheet": false,
    "run_control": {
     "read_only": false
    }
   },
   "source": [
    "# <font color=green> PYTHON PARA DATA SCIENCE - PANDAS\n",
    "---"
   ]
  },
  {
   "cell_type": "markdown",
   "metadata": {
    "button": false,
    "colab_type": "text",
    "deletable": true,
    "id": "GOEcCc62D0-x",
    "new_sheet": false,
    "run_control": {
     "read_only": false
    }
   },
   "source": [
    "# <font color=green> 1. INTRODUÇÃO AO PYTHON\n",
    "---"
   ]
  },
  {
   "cell_type": "markdown",
   "metadata": {
    "button": false,
    "colab_type": "text",
    "deletable": true,
    "id": "oGvoOJ-XD0-y",
    "new_sheet": false,
    "run_control": {
     "read_only": false
    }
   },
   "source": [
    "# 1.1 Introdução"
   ]
  },
  {
   "cell_type": "markdown",
   "metadata": {
    "button": false,
    "colab_type": "text",
    "deletable": true,
    "id": "fam3BM0aD0-z",
    "new_sheet": false,
    "run_control": {
     "read_only": false
    }
   },
   "source": [
    "> Python é uma linguagem de programação de alto nível com suporte a múltiplos paradigmas de programação. É um projeto *open source* e desde seu surgimento, em 1991, vem se tornando uma das linguagens de programação interpretadas mais populares. \n",
    ">\n",
    "> Nos últimos anos Python desenvolveu uma comunidade ativa de processamento científico e análise de dados e vem se destacando como uma das linguagens mais relevantes quando o assundo é ciência de dados e machine learning, tanto no ambiente acadêmico como também no mercado."
   ]
  },
  {
   "cell_type": "markdown",
   "metadata": {
    "button": false,
    "colab_type": "text",
    "deletable": true,
    "id": "6kH5DY-vD0-1",
    "new_sheet": false,
    "run_control": {
     "read_only": false
    }
   },
   "source": [
    "# 1.2 Instalação e ambiente de desenvolvimento"
   ]
  },
  {
   "cell_type": "markdown",
   "metadata": {
    "button": false,
    "colab_type": "text",
    "deletable": true,
    "id": "BTpm79I2D0-2",
    "new_sheet": false,
    "run_control": {
     "read_only": false
    }
   },
   "source": [
    "### Instalação Local\n",
    "\n",
    "### https://www.python.org/downloads/\n",
    "### ou\n",
    "### https://www.anaconda.com/distribution/"
   ]
  },
  {
   "cell_type": "markdown",
   "metadata": {
    "button": false,
    "colab_type": "text",
    "deletable": true,
    "id": "AuPS_XwRD0-3",
    "new_sheet": false,
    "run_control": {
     "read_only": false
    }
   },
   "source": [
    "### Google Colaboratory\n",
    "\n",
    "### https://colab.research.google.com"
   ]
  },
  {
   "cell_type": "markdown",
   "metadata": {
    "button": false,
    "colab_type": "text",
    "deletable": true,
    "id": "4rUYsPrXD0-4",
    "new_sheet": false,
    "run_control": {
     "read_only": false
    }
   },
   "source": [
    "### Verificando versão"
   ]
  },
  {
   "cell_type": "code",
   "execution_count": 3,
   "metadata": {
    "button": false,
    "colab": {},
    "colab_type": "code",
    "collapsed": false,
    "deletable": true,
    "id": "PgTCVRB2D0-5",
    "new_sheet": false,
    "run_control": {
     "read_only": false
    }
   },
   "outputs": [
    {
     "name": "stdout",
     "output_type": "stream",
     "text": [
      "Python 2.7.10\r\n"
     ]
    }
   ],
   "source": [
    "!python -V"
   ]
  },
  {
   "cell_type": "markdown",
   "metadata": {
    "button": false,
    "colab_type": "text",
    "deletable": true,
    "id": "lTtI6so4D0-9",
    "new_sheet": false,
    "run_control": {
     "read_only": false
    }
   },
   "source": [
    "# 1.3 Trabalhando com dados"
   ]
  },
  {
   "cell_type": "code",
   "execution_count": 4,
   "metadata": {
    "button": false,
    "colab": {},
    "colab_type": "code",
    "collapsed": true,
    "deletable": true,
    "id": "E_n4FUUWD0-9",
    "new_sheet": false,
    "run_control": {
     "read_only": false
    }
   },
   "outputs": [],
   "source": [
    "import pandas as pd\n",
    "# pd.set_option('display.max_rows', 10)"
   ]
  },
  {
   "cell_type": "code",
   "execution_count": 5,
   "metadata": {
    "button": false,
    "colab": {},
    "colab_type": "code",
    "collapsed": true,
    "deletable": true,
    "id": "Kq-JdRHFD0-_",
    "new_sheet": false,
    "run_control": {
     "read_only": false
    }
   },
   "outputs": [],
   "source": [
    "dataset = pd.read_csv('./data/db.csv', sep = ';')"
   ]
  },
  {
   "cell_type": "code",
   "execution_count": 6,
   "metadata": {
    "button": false,
    "colab": {},
    "colab_type": "code",
    "collapsed": false,
    "deletable": true,
    "id": "mOV1rCA6D0_A",
    "new_sheet": false,
    "run_control": {
     "read_only": false
    },
    "scrolled": true
   },
   "outputs": [
    {
     "data": {
      "text/html": [
       "<div>\n",
       "<table border=\"1\" class=\"dataframe\">\n",
       "  <thead>\n",
       "    <tr style=\"text-align: right;\">\n",
       "      <th></th>\n",
       "      <th>Nome</th>\n",
       "      <th>Motor</th>\n",
       "      <th>Ano</th>\n",
       "      <th>Quilometragem</th>\n",
       "      <th>Zero_km</th>\n",
       "      <th>Acessórios</th>\n",
       "      <th>Valor</th>\n",
       "    </tr>\n",
       "  </thead>\n",
       "  <tbody>\n",
       "    <tr>\n",
       "      <th>0</th>\n",
       "      <td>Jetta Variant</td>\n",
       "      <td>Motor 4.0 Turbo</td>\n",
       "      <td>2003</td>\n",
       "      <td>44410</td>\n",
       "      <td>False</td>\n",
       "      <td>['Rodas de liga', 'Travas elétricas', 'Piloto ...</td>\n",
       "      <td>88078.64</td>\n",
       "    </tr>\n",
       "    <tr>\n",
       "      <th>1</th>\n",
       "      <td>Passat</td>\n",
       "      <td>Motor Diesel</td>\n",
       "      <td>1991</td>\n",
       "      <td>5712</td>\n",
       "      <td>False</td>\n",
       "      <td>['Central multimídia', 'Teto panorâmico', 'Fre...</td>\n",
       "      <td>106161.94</td>\n",
       "    </tr>\n",
       "    <tr>\n",
       "      <th>2</th>\n",
       "      <td>Crossfox</td>\n",
       "      <td>Motor Diesel V8</td>\n",
       "      <td>1990</td>\n",
       "      <td>37123</td>\n",
       "      <td>False</td>\n",
       "      <td>['Piloto automático', 'Controle de estabilidad...</td>\n",
       "      <td>72832.16</td>\n",
       "    </tr>\n",
       "    <tr>\n",
       "      <th>3</th>\n",
       "      <td>DS5</td>\n",
       "      <td>Motor 2.4 Turbo</td>\n",
       "      <td>2019</td>\n",
       "      <td>NaN</td>\n",
       "      <td>True</td>\n",
       "      <td>['Travas elétricas', '4 X 4', 'Vidros elétrico...</td>\n",
       "      <td>124549.07</td>\n",
       "    </tr>\n",
       "    <tr>\n",
       "      <th>4</th>\n",
       "      <td>Aston Martin DB4</td>\n",
       "      <td>Motor 2.4 Turbo</td>\n",
       "      <td>2006</td>\n",
       "      <td>25757</td>\n",
       "      <td>False</td>\n",
       "      <td>['Rodas de liga', '4 X 4', 'Central multimídia...</td>\n",
       "      <td>92612.10</td>\n",
       "    </tr>\n",
       "    <tr>\n",
       "      <th>5</th>\n",
       "      <td>Palio Weekend</td>\n",
       "      <td>Motor 1.8 16v</td>\n",
       "      <td>2012</td>\n",
       "      <td>10728</td>\n",
       "      <td>False</td>\n",
       "      <td>['Sensor de estacionamento', 'Teto panorâmico'...</td>\n",
       "      <td>97497.73</td>\n",
       "    </tr>\n",
       "    <tr>\n",
       "      <th>6</th>\n",
       "      <td>A5</td>\n",
       "      <td>Motor 4.0 Turbo</td>\n",
       "      <td>2019</td>\n",
       "      <td>NaN</td>\n",
       "      <td>True</td>\n",
       "      <td>['Câmbio automático', 'Câmera de estacionament...</td>\n",
       "      <td>56445.20</td>\n",
       "    </tr>\n",
       "    <tr>\n",
       "      <th>7</th>\n",
       "      <td>Série 3 Cabrio</td>\n",
       "      <td>Motor 1.0 8v</td>\n",
       "      <td>2009</td>\n",
       "      <td>77599</td>\n",
       "      <td>False</td>\n",
       "      <td>['Controle de estabilidade', 'Sensor crepuscul...</td>\n",
       "      <td>112310.44</td>\n",
       "    </tr>\n",
       "    <tr>\n",
       "      <th>8</th>\n",
       "      <td>Dodge Jorney</td>\n",
       "      <td>Motor 3.0 32v</td>\n",
       "      <td>2010</td>\n",
       "      <td>99197</td>\n",
       "      <td>False</td>\n",
       "      <td>['Vidros elétricos', 'Piloto automático', 'Tet...</td>\n",
       "      <td>120716.27</td>\n",
       "    </tr>\n",
       "    <tr>\n",
       "      <th>9</th>\n",
       "      <td>Carens</td>\n",
       "      <td>Motor 5.0 V8 Bi-Turbo</td>\n",
       "      <td>2011</td>\n",
       "      <td>37978</td>\n",
       "      <td>False</td>\n",
       "      <td>['Ar condicionado', 'Painel digital', 'Central...</td>\n",
       "      <td>76566.49</td>\n",
       "    </tr>\n",
       "    <tr>\n",
       "      <th>10</th>\n",
       "      <td>Ford Edge</td>\n",
       "      <td>Motor Diesel V6</td>\n",
       "      <td>2002</td>\n",
       "      <td>12859</td>\n",
       "      <td>False</td>\n",
       "      <td>['Sensor crepuscular', 'Rodas de liga', 'Teto ...</td>\n",
       "      <td>71647.59</td>\n",
       "    </tr>\n",
       "    <tr>\n",
       "      <th>11</th>\n",
       "      <td>Courier</td>\n",
       "      <td>Motor Diesel V8</td>\n",
       "      <td>2007</td>\n",
       "      <td>8052</td>\n",
       "      <td>False</td>\n",
       "      <td>['Central multimídia', '4 X 4', 'Piloto automá...</td>\n",
       "      <td>73919.53</td>\n",
       "    </tr>\n",
       "    <tr>\n",
       "      <th>12</th>\n",
       "      <td>S-18</td>\n",
       "      <td>Motor V6</td>\n",
       "      <td>2001</td>\n",
       "      <td>89773</td>\n",
       "      <td>False</td>\n",
       "      <td>['Bancos de couro', 'Sensor de chuva', 'Rodas ...</td>\n",
       "      <td>112732.99</td>\n",
       "    </tr>\n",
       "    <tr>\n",
       "      <th>13</th>\n",
       "      <td>J5</td>\n",
       "      <td>Motor V6</td>\n",
       "      <td>2019</td>\n",
       "      <td>NaN</td>\n",
       "      <td>True</td>\n",
       "      <td>['Sensor crepuscular', 'Painel digital', 'Roda...</td>\n",
       "      <td>53183.38</td>\n",
       "    </tr>\n",
       "    <tr>\n",
       "      <th>14</th>\n",
       "      <td>F-Type Coupé</td>\n",
       "      <td>Motor 5.0 V8 Bi-Turbo</td>\n",
       "      <td>2009</td>\n",
       "      <td>41457</td>\n",
       "      <td>False</td>\n",
       "      <td>['Piloto automático', 'Sensor crepuscular', 'S...</td>\n",
       "      <td>127488.42</td>\n",
       "    </tr>\n",
       "    <tr>\n",
       "      <th>15</th>\n",
       "      <td>RAM</td>\n",
       "      <td>Motor Diesel V8</td>\n",
       "      <td>2016</td>\n",
       "      <td>115607</td>\n",
       "      <td>False</td>\n",
       "      <td>['Sensor crepuscular', 'Câmbio automático', 'S...</td>\n",
       "      <td>59910.40</td>\n",
       "    </tr>\n",
       "    <tr>\n",
       "      <th>16</th>\n",
       "      <td>Série 1</td>\n",
       "      <td>Motor 3.0 32v</td>\n",
       "      <td>2012</td>\n",
       "      <td>46449</td>\n",
       "      <td>False</td>\n",
       "      <td>['Teto panorâmico', 'Câmera de estacionamento'...</td>\n",
       "      <td>61118.59</td>\n",
       "    </tr>\n",
       "    <tr>\n",
       "      <th>17</th>\n",
       "      <td>A3</td>\n",
       "      <td>Motor 1.0 8v</td>\n",
       "      <td>2019</td>\n",
       "      <td>NaN</td>\n",
       "      <td>True</td>\n",
       "      <td>['4 X 4', 'Piloto automático', 'Central multim...</td>\n",
       "      <td>88552.39</td>\n",
       "    </tr>\n",
       "    <tr>\n",
       "      <th>18</th>\n",
       "      <td>XC90</td>\n",
       "      <td>Motor 1.0 8v</td>\n",
       "      <td>2016</td>\n",
       "      <td>37086</td>\n",
       "      <td>False</td>\n",
       "      <td>['Travas elétricas', 'Vidros elétricos', 'Teto...</td>\n",
       "      <td>62696.69</td>\n",
       "    </tr>\n",
       "    <tr>\n",
       "      <th>19</th>\n",
       "      <td>RS 3 Sportback</td>\n",
       "      <td>Motor 3.0 32v</td>\n",
       "      <td>2017</td>\n",
       "      <td>15173</td>\n",
       "      <td>False</td>\n",
       "      <td>['4 X 4', 'Piloto automático', 'Central multim...</td>\n",
       "      <td>101726.30</td>\n",
       "    </tr>\n",
       "    <tr>\n",
       "      <th>20</th>\n",
       "      <td>Pajero Sport</td>\n",
       "      <td>Motor 1.0 8v</td>\n",
       "      <td>2002</td>\n",
       "      <td>101193</td>\n",
       "      <td>False</td>\n",
       "      <td>['Sensor de estacionamento', 'Piloto automátic...</td>\n",
       "      <td>106147.38</td>\n",
       "    </tr>\n",
       "    <tr>\n",
       "      <th>21</th>\n",
       "      <td>Série 1 M</td>\n",
       "      <td>Motor V8</td>\n",
       "      <td>2019</td>\n",
       "      <td>NaN</td>\n",
       "      <td>True</td>\n",
       "      <td>['Controle de estabilidade', 'Central multimíd...</td>\n",
       "      <td>94564.40</td>\n",
       "    </tr>\n",
       "    <tr>\n",
       "      <th>22</th>\n",
       "      <td>Lamborghini Obvious</td>\n",
       "      <td>Motor Diesel V6</td>\n",
       "      <td>1994</td>\n",
       "      <td>98079</td>\n",
       "      <td>False</td>\n",
       "      <td>['Rodas de liga', 'Câmbio automático', 'Travas...</td>\n",
       "      <td>133529.84</td>\n",
       "    </tr>\n",
       "    <tr>\n",
       "      <th>23</th>\n",
       "      <td>Effa Hafei Picape Baú</td>\n",
       "      <td>Motor Diesel</td>\n",
       "      <td>1991</td>\n",
       "      <td>102959</td>\n",
       "      <td>False</td>\n",
       "      <td>['Controle de estabilidade', 'Painel digital',...</td>\n",
       "      <td>125684.65</td>\n",
       "    </tr>\n",
       "    <tr>\n",
       "      <th>24</th>\n",
       "      <td>Lamborghini Murciélago</td>\n",
       "      <td>Motor 5.0 V8 Bi-Turbo</td>\n",
       "      <td>2019</td>\n",
       "      <td>NaN</td>\n",
       "      <td>True</td>\n",
       "      <td>['Freios ABS', 'Câmbio automático', 'Ar condic...</td>\n",
       "      <td>121596.21</td>\n",
       "    </tr>\n",
       "    <tr>\n",
       "      <th>25</th>\n",
       "      <td>Up!</td>\n",
       "      <td>Motor Diesel V6</td>\n",
       "      <td>2019</td>\n",
       "      <td>NaN</td>\n",
       "      <td>True</td>\n",
       "      <td>['Sensor de estacionamento', 'Vidros elétricos...</td>\n",
       "      <td>71367.10</td>\n",
       "    </tr>\n",
       "    <tr>\n",
       "      <th>26</th>\n",
       "      <td>Fiesta Rocam Sedan</td>\n",
       "      <td>Motor 4.0 Turbo</td>\n",
       "      <td>2016</td>\n",
       "      <td>5795</td>\n",
       "      <td>False</td>\n",
       "      <td>['Ar condicionado', 'Bancos de couro', 'Câmbio...</td>\n",
       "      <td>95347.75</td>\n",
       "    </tr>\n",
       "    <tr>\n",
       "      <th>27</th>\n",
       "      <td>Sandero Stepway</td>\n",
       "      <td>Motor 3.0 32v</td>\n",
       "      <td>2019</td>\n",
       "      <td>NaN</td>\n",
       "      <td>True</td>\n",
       "      <td>['Freios ABS', 'Ar condicionado', 'Teto panorâ...</td>\n",
       "      <td>105432.84</td>\n",
       "    </tr>\n",
       "    <tr>\n",
       "      <th>28</th>\n",
       "      <td>Cayman S</td>\n",
       "      <td>Motor 3.0 32v</td>\n",
       "      <td>2002</td>\n",
       "      <td>58848</td>\n",
       "      <td>False</td>\n",
       "      <td>['Câmbio automático', 'Sensor de estacionament...</td>\n",
       "      <td>57045.27</td>\n",
       "    </tr>\n",
       "    <tr>\n",
       "      <th>29</th>\n",
       "      <td>V40</td>\n",
       "      <td>Motor 4.0 Turbo</td>\n",
       "      <td>1991</td>\n",
       "      <td>94381</td>\n",
       "      <td>False</td>\n",
       "      <td>['Câmera de estacionamento', 'Sensor de estaci...</td>\n",
       "      <td>120432.70</td>\n",
       "    </tr>\n",
       "    <tr>\n",
       "      <th>...</th>\n",
       "      <td>...</td>\n",
       "      <td>...</td>\n",
       "      <td>...</td>\n",
       "      <td>...</td>\n",
       "      <td>...</td>\n",
       "      <td>...</td>\n",
       "      <td>...</td>\n",
       "    </tr>\n",
       "    <tr>\n",
       "      <th>228</th>\n",
       "      <td>GLA</td>\n",
       "      <td>Motor 1.0 8v</td>\n",
       "      <td>1991</td>\n",
       "      <td>8394</td>\n",
       "      <td>False</td>\n",
       "      <td>['Sensor de chuva', 'Câmera de estacionamento'...</td>\n",
       "      <td>76310.01</td>\n",
       "    </tr>\n",
       "    <tr>\n",
       "      <th>229</th>\n",
       "      <td>Range Rover Sport</td>\n",
       "      <td>Motor 1.0 8v</td>\n",
       "      <td>1997</td>\n",
       "      <td>41498</td>\n",
       "      <td>False</td>\n",
       "      <td>['Sensor de estacionamento', 'Câmera de estaci...</td>\n",
       "      <td>120481.74</td>\n",
       "    </tr>\n",
       "    <tr>\n",
       "      <th>230</th>\n",
       "      <td>DS3</td>\n",
       "      <td>Motor 1.8 16v</td>\n",
       "      <td>2000</td>\n",
       "      <td>116002</td>\n",
       "      <td>False</td>\n",
       "      <td>['Controle de estabilidade', 'Ar condicionado'...</td>\n",
       "      <td>54559.18</td>\n",
       "    </tr>\n",
       "    <tr>\n",
       "      <th>231</th>\n",
       "      <td>Veracruz</td>\n",
       "      <td>Motor Diesel V8</td>\n",
       "      <td>2007</td>\n",
       "      <td>100858</td>\n",
       "      <td>False</td>\n",
       "      <td>['Controle de estabilidade', 'Câmera de estaci...</td>\n",
       "      <td>92957.64</td>\n",
       "    </tr>\n",
       "    <tr>\n",
       "      <th>232</th>\n",
       "      <td>Cadillac CTS coupe, sedan, and wagon</td>\n",
       "      <td>Motor V8</td>\n",
       "      <td>2006</td>\n",
       "      <td>67475</td>\n",
       "      <td>False</td>\n",
       "      <td>['Sensor de chuva', 'Sensor de estacionamento'...</td>\n",
       "      <td>127810.06</td>\n",
       "    </tr>\n",
       "    <tr>\n",
       "      <th>233</th>\n",
       "      <td>i30 CW</td>\n",
       "      <td>Motor Diesel</td>\n",
       "      <td>2015</td>\n",
       "      <td>8497</td>\n",
       "      <td>False</td>\n",
       "      <td>['Sensor de chuva', 'Vidros elétricos', 'Contr...</td>\n",
       "      <td>73311.75</td>\n",
       "    </tr>\n",
       "    <tr>\n",
       "      <th>234</th>\n",
       "      <td>Phantom III</td>\n",
       "      <td>Motor Diesel V6</td>\n",
       "      <td>2008</td>\n",
       "      <td>4420</td>\n",
       "      <td>False</td>\n",
       "      <td>['Vidros elétricos', 'Bancos de couro', 'Pilot...</td>\n",
       "      <td>65138.03</td>\n",
       "    </tr>\n",
       "    <tr>\n",
       "      <th>235</th>\n",
       "      <td>A3 Sedan</td>\n",
       "      <td>Motor V6</td>\n",
       "      <td>2019</td>\n",
       "      <td>NaN</td>\n",
       "      <td>True</td>\n",
       "      <td>['Ar condicionado', 'Sensor de chuva', 'Travas...</td>\n",
       "      <td>90141.47</td>\n",
       "    </tr>\n",
       "    <tr>\n",
       "      <th>236</th>\n",
       "      <td>Aston Martin DB9 Volante</td>\n",
       "      <td>Motor 2.0 16v</td>\n",
       "      <td>1996</td>\n",
       "      <td>58537</td>\n",
       "      <td>False</td>\n",
       "      <td>['Central multimídia', 'Bancos de couro', 'Câm...</td>\n",
       "      <td>71160.36</td>\n",
       "    </tr>\n",
       "    <tr>\n",
       "      <th>237</th>\n",
       "      <td>Série 7 Sedã</td>\n",
       "      <td>Motor Diesel</td>\n",
       "      <td>2019</td>\n",
       "      <td>NaN</td>\n",
       "      <td>True</td>\n",
       "      <td>['Vidros elétricos', 'Travas elétricas', 'Roda...</td>\n",
       "      <td>67539.79</td>\n",
       "    </tr>\n",
       "    <tr>\n",
       "      <th>238</th>\n",
       "      <td>Lamborghini Reventón</td>\n",
       "      <td>Motor 4.0 Turbo</td>\n",
       "      <td>2019</td>\n",
       "      <td>NaN</td>\n",
       "      <td>True</td>\n",
       "      <td>['Controle de tração', 'Ar condicionado', 'Cen...</td>\n",
       "      <td>67664.86</td>\n",
       "    </tr>\n",
       "    <tr>\n",
       "      <th>239</th>\n",
       "      <td>Grand Livina</td>\n",
       "      <td>Motor 2.0 16v</td>\n",
       "      <td>2014</td>\n",
       "      <td>112016</td>\n",
       "      <td>False</td>\n",
       "      <td>['Controle de tração', 'Teto panorâmico', 'Vid...</td>\n",
       "      <td>68652.16</td>\n",
       "    </tr>\n",
       "    <tr>\n",
       "      <th>240</th>\n",
       "      <td>V60</td>\n",
       "      <td>Motor Diesel</td>\n",
       "      <td>2004</td>\n",
       "      <td>91840</td>\n",
       "      <td>False</td>\n",
       "      <td>['Rodas de liga', 'Sensor crepuscular', 'Ar co...</td>\n",
       "      <td>114728.74</td>\n",
       "    </tr>\n",
       "    <tr>\n",
       "      <th>241</th>\n",
       "      <td>Effa Hafei Picape Cabine Dupla</td>\n",
       "      <td>Motor V6</td>\n",
       "      <td>2008</td>\n",
       "      <td>112787</td>\n",
       "      <td>False</td>\n",
       "      <td>['Sensor crepuscular', 'Controle de tração', '...</td>\n",
       "      <td>141645.08</td>\n",
       "    </tr>\n",
       "    <tr>\n",
       "      <th>242</th>\n",
       "      <td>Benni Mini</td>\n",
       "      <td>Motor V8</td>\n",
       "      <td>2019</td>\n",
       "      <td>NaN</td>\n",
       "      <td>True</td>\n",
       "      <td>['Sensor crepuscular', 'Câmbio automático', 'C...</td>\n",
       "      <td>126247.84</td>\n",
       "    </tr>\n",
       "    <tr>\n",
       "      <th>243</th>\n",
       "      <td>Uno</td>\n",
       "      <td>Motor Diesel V6</td>\n",
       "      <td>2019</td>\n",
       "      <td>NaN</td>\n",
       "      <td>True</td>\n",
       "      <td>['Central multimídia', 'Sensor crepuscular', '...</td>\n",
       "      <td>128852.21</td>\n",
       "    </tr>\n",
       "    <tr>\n",
       "      <th>244</th>\n",
       "      <td>L200 Savana</td>\n",
       "      <td>Motor 2.0 16v</td>\n",
       "      <td>2012</td>\n",
       "      <td>9293</td>\n",
       "      <td>False</td>\n",
       "      <td>['Sensor de chuva', 'Vidros elétricos', 'Paine...</td>\n",
       "      <td>132384.76</td>\n",
       "    </tr>\n",
       "    <tr>\n",
       "      <th>245</th>\n",
       "      <td>Santa Fe</td>\n",
       "      <td>Motor 3.0 32v</td>\n",
       "      <td>2019</td>\n",
       "      <td>NaN</td>\n",
       "      <td>True</td>\n",
       "      <td>['Travas elétricas', 'Ar condicionado', '4 X 4...</td>\n",
       "      <td>129415.33</td>\n",
       "    </tr>\n",
       "    <tr>\n",
       "      <th>246</th>\n",
       "      <td>RS5</td>\n",
       "      <td>Motor V6</td>\n",
       "      <td>1996</td>\n",
       "      <td>55083</td>\n",
       "      <td>False</td>\n",
       "      <td>['Painel digital', 'Câmbio automático', 'Vidro...</td>\n",
       "      <td>89536.82</td>\n",
       "    </tr>\n",
       "    <tr>\n",
       "      <th>247</th>\n",
       "      <td>Cerato</td>\n",
       "      <td>Motor V6</td>\n",
       "      <td>2011</td>\n",
       "      <td>48796</td>\n",
       "      <td>False</td>\n",
       "      <td>['Sensor de estacionamento', 'Câmera de estaci...</td>\n",
       "      <td>87975.30</td>\n",
       "    </tr>\n",
       "    <tr>\n",
       "      <th>248</th>\n",
       "      <td>XC60</td>\n",
       "      <td>Motor 4.0 Turbo</td>\n",
       "      <td>2019</td>\n",
       "      <td>NaN</td>\n",
       "      <td>True</td>\n",
       "      <td>['Painel digital', 'Piloto automático', 'Centr...</td>\n",
       "      <td>77675.79</td>\n",
       "    </tr>\n",
       "    <tr>\n",
       "      <th>249</th>\n",
       "      <td>LS 460L</td>\n",
       "      <td>Motor Diesel V8</td>\n",
       "      <td>2010</td>\n",
       "      <td>89685</td>\n",
       "      <td>False</td>\n",
       "      <td>['Rodas de liga', 'Freios ABS', 'Controle de t...</td>\n",
       "      <td>58881.67</td>\n",
       "    </tr>\n",
       "    <tr>\n",
       "      <th>250</th>\n",
       "      <td>Lamborghini Sesto Elemento</td>\n",
       "      <td>Motor V8</td>\n",
       "      <td>2007</td>\n",
       "      <td>85384</td>\n",
       "      <td>False</td>\n",
       "      <td>['Sensor crepuscular', 'Freios ABS', 'Ar condi...</td>\n",
       "      <td>55081.99</td>\n",
       "    </tr>\n",
       "    <tr>\n",
       "      <th>251</th>\n",
       "      <td>Lamborghini Huracán</td>\n",
       "      <td>Motor V8</td>\n",
       "      <td>1994</td>\n",
       "      <td>98108</td>\n",
       "      <td>False</td>\n",
       "      <td>['Sensor de chuva', 'Sensor de estacionamento'...</td>\n",
       "      <td>118826.44</td>\n",
       "    </tr>\n",
       "    <tr>\n",
       "      <th>252</th>\n",
       "      <td>A7</td>\n",
       "      <td>Motor 1.0 8v</td>\n",
       "      <td>2007</td>\n",
       "      <td>71280</td>\n",
       "      <td>False</td>\n",
       "      <td>['Sensor de chuva', 'Vidros elétricos', 'Senso...</td>\n",
       "      <td>137627.62</td>\n",
       "    </tr>\n",
       "    <tr>\n",
       "      <th>253</th>\n",
       "      <td>Phantom 2013</td>\n",
       "      <td>Motor V8</td>\n",
       "      <td>2014</td>\n",
       "      <td>27505</td>\n",
       "      <td>False</td>\n",
       "      <td>['Controle de estabilidade', 'Piloto automátic...</td>\n",
       "      <td>51759.58</td>\n",
       "    </tr>\n",
       "    <tr>\n",
       "      <th>254</th>\n",
       "      <td>Cadillac Ciel concept</td>\n",
       "      <td>Motor V8</td>\n",
       "      <td>1991</td>\n",
       "      <td>29981</td>\n",
       "      <td>False</td>\n",
       "      <td>['Bancos de couro', 'Painel digital', 'Sensor ...</td>\n",
       "      <td>51667.06</td>\n",
       "    </tr>\n",
       "    <tr>\n",
       "      <th>255</th>\n",
       "      <td>Classe GLK</td>\n",
       "      <td>Motor 5.0 V8 Bi-Turbo</td>\n",
       "      <td>2002</td>\n",
       "      <td>52637</td>\n",
       "      <td>False</td>\n",
       "      <td>['Rodas de liga', 'Controle de tração', 'Câmbi...</td>\n",
       "      <td>68934.03</td>\n",
       "    </tr>\n",
       "    <tr>\n",
       "      <th>256</th>\n",
       "      <td>Aston Martin DB5</td>\n",
       "      <td>Motor Diesel</td>\n",
       "      <td>1996</td>\n",
       "      <td>7685</td>\n",
       "      <td>False</td>\n",
       "      <td>['Ar condicionado', '4 X 4', 'Câmbio automátic...</td>\n",
       "      <td>122110.90</td>\n",
       "    </tr>\n",
       "    <tr>\n",
       "      <th>257</th>\n",
       "      <td>Macan</td>\n",
       "      <td>Motor Diesel V6</td>\n",
       "      <td>1992</td>\n",
       "      <td>50188</td>\n",
       "      <td>False</td>\n",
       "      <td>['Central multimídia', 'Teto panorâmico', 'Vid...</td>\n",
       "      <td>90381.47</td>\n",
       "    </tr>\n",
       "  </tbody>\n",
       "</table>\n",
       "<p>258 rows × 7 columns</p>\n",
       "</div>"
      ],
      "text/plain": [
       "                                     Nome                  Motor   Ano  \\\n",
       "0                           Jetta Variant        Motor 4.0 Turbo  2003   \n",
       "1                                  Passat           Motor Diesel  1991   \n",
       "2                                Crossfox        Motor Diesel V8  1990   \n",
       "3                                     DS5        Motor 2.4 Turbo  2019   \n",
       "4                        Aston Martin DB4        Motor 2.4 Turbo  2006   \n",
       "5                           Palio Weekend          Motor 1.8 16v  2012   \n",
       "6                                      A5        Motor 4.0 Turbo  2019   \n",
       "7                          Série 3 Cabrio           Motor 1.0 8v  2009   \n",
       "8                            Dodge Jorney          Motor 3.0 32v  2010   \n",
       "9                                  Carens  Motor 5.0 V8 Bi-Turbo  2011   \n",
       "10                              Ford Edge        Motor Diesel V6  2002   \n",
       "11                                Courier        Motor Diesel V8  2007   \n",
       "12                                   S-18               Motor V6  2001   \n",
       "13                                     J5               Motor V6  2019   \n",
       "14                           F-Type Coupé  Motor 5.0 V8 Bi-Turbo  2009   \n",
       "15                                    RAM        Motor Diesel V8  2016   \n",
       "16                                Série 1          Motor 3.0 32v  2012   \n",
       "17                                     A3           Motor 1.0 8v  2019   \n",
       "18                                   XC90           Motor 1.0 8v  2016   \n",
       "19                         RS 3 Sportback          Motor 3.0 32v  2017   \n",
       "20                           Pajero Sport           Motor 1.0 8v  2002   \n",
       "21                              Série 1 M               Motor V8  2019   \n",
       "22                    Lamborghini Obvious        Motor Diesel V6  1994   \n",
       "23                  Effa Hafei Picape Baú           Motor Diesel  1991   \n",
       "24                 Lamborghini Murciélago  Motor 5.0 V8 Bi-Turbo  2019   \n",
       "25                                    Up!        Motor Diesel V6  2019   \n",
       "26                     Fiesta Rocam Sedan        Motor 4.0 Turbo  2016   \n",
       "27                        Sandero Stepway          Motor 3.0 32v  2019   \n",
       "28                               Cayman S          Motor 3.0 32v  2002   \n",
       "29                                    V40        Motor 4.0 Turbo  1991   \n",
       "..                                    ...                    ...   ...   \n",
       "228                                   GLA           Motor 1.0 8v  1991   \n",
       "229                     Range Rover Sport           Motor 1.0 8v  1997   \n",
       "230                                   DS3          Motor 1.8 16v  2000   \n",
       "231                              Veracruz        Motor Diesel V8  2007   \n",
       "232  Cadillac CTS coupe, sedan, and wagon               Motor V8  2006   \n",
       "233                                i30 CW           Motor Diesel  2015   \n",
       "234                           Phantom III        Motor Diesel V6  2008   \n",
       "235                              A3 Sedan               Motor V6  2019   \n",
       "236              Aston Martin DB9 Volante          Motor 2.0 16v  1996   \n",
       "237                          Série 7 Sedã           Motor Diesel  2019   \n",
       "238                  Lamborghini Reventón        Motor 4.0 Turbo  2019   \n",
       "239                          Grand Livina          Motor 2.0 16v  2014   \n",
       "240                                   V60           Motor Diesel  2004   \n",
       "241        Effa Hafei Picape Cabine Dupla               Motor V6  2008   \n",
       "242                            Benni Mini               Motor V8  2019   \n",
       "243                                   Uno        Motor Diesel V6  2019   \n",
       "244                           L200 Savana          Motor 2.0 16v  2012   \n",
       "245                              Santa Fe          Motor 3.0 32v  2019   \n",
       "246                                   RS5               Motor V6  1996   \n",
       "247                                Cerato               Motor V6  2011   \n",
       "248                                  XC60        Motor 4.0 Turbo  2019   \n",
       "249                               LS 460L        Motor Diesel V8  2010   \n",
       "250            Lamborghini Sesto Elemento               Motor V8  2007   \n",
       "251                   Lamborghini Huracán               Motor V8  1994   \n",
       "252                                    A7           Motor 1.0 8v  2007   \n",
       "253                          Phantom 2013               Motor V8  2014   \n",
       "254                 Cadillac Ciel concept               Motor V8  1991   \n",
       "255                            Classe GLK  Motor 5.0 V8 Bi-Turbo  2002   \n",
       "256                      Aston Martin DB5           Motor Diesel  1996   \n",
       "257                                 Macan        Motor Diesel V6  1992   \n",
       "\n",
       "     Quilometragem Zero_km                                         Acessórios  \\\n",
       "0            44410   False  ['Rodas de liga', 'Travas elétricas', 'Piloto ...   \n",
       "1             5712   False  ['Central multimídia', 'Teto panorâmico', 'Fre...   \n",
       "2            37123   False  ['Piloto automático', 'Controle de estabilidad...   \n",
       "3              NaN    True  ['Travas elétricas', '4 X 4', 'Vidros elétrico...   \n",
       "4            25757   False  ['Rodas de liga', '4 X 4', 'Central multimídia...   \n",
       "5            10728   False  ['Sensor de estacionamento', 'Teto panorâmico'...   \n",
       "6              NaN    True  ['Câmbio automático', 'Câmera de estacionament...   \n",
       "7            77599   False  ['Controle de estabilidade', 'Sensor crepuscul...   \n",
       "8            99197   False  ['Vidros elétricos', 'Piloto automático', 'Tet...   \n",
       "9            37978   False  ['Ar condicionado', 'Painel digital', 'Central...   \n",
       "10           12859   False  ['Sensor crepuscular', 'Rodas de liga', 'Teto ...   \n",
       "11            8052   False  ['Central multimídia', '4 X 4', 'Piloto automá...   \n",
       "12           89773   False  ['Bancos de couro', 'Sensor de chuva', 'Rodas ...   \n",
       "13             NaN    True  ['Sensor crepuscular', 'Painel digital', 'Roda...   \n",
       "14           41457   False  ['Piloto automático', 'Sensor crepuscular', 'S...   \n",
       "15          115607   False  ['Sensor crepuscular', 'Câmbio automático', 'S...   \n",
       "16           46449   False  ['Teto panorâmico', 'Câmera de estacionamento'...   \n",
       "17             NaN    True  ['4 X 4', 'Piloto automático', 'Central multim...   \n",
       "18           37086   False  ['Travas elétricas', 'Vidros elétricos', 'Teto...   \n",
       "19           15173   False  ['4 X 4', 'Piloto automático', 'Central multim...   \n",
       "20          101193   False  ['Sensor de estacionamento', 'Piloto automátic...   \n",
       "21             NaN    True  ['Controle de estabilidade', 'Central multimíd...   \n",
       "22           98079   False  ['Rodas de liga', 'Câmbio automático', 'Travas...   \n",
       "23          102959   False  ['Controle de estabilidade', 'Painel digital',...   \n",
       "24             NaN    True  ['Freios ABS', 'Câmbio automático', 'Ar condic...   \n",
       "25             NaN    True  ['Sensor de estacionamento', 'Vidros elétricos...   \n",
       "26            5795   False  ['Ar condicionado', 'Bancos de couro', 'Câmbio...   \n",
       "27             NaN    True  ['Freios ABS', 'Ar condicionado', 'Teto panorâ...   \n",
       "28           58848   False  ['Câmbio automático', 'Sensor de estacionament...   \n",
       "29           94381   False  ['Câmera de estacionamento', 'Sensor de estaci...   \n",
       "..             ...     ...                                                ...   \n",
       "228           8394   False  ['Sensor de chuva', 'Câmera de estacionamento'...   \n",
       "229          41498   False  ['Sensor de estacionamento', 'Câmera de estaci...   \n",
       "230         116002   False  ['Controle de estabilidade', 'Ar condicionado'...   \n",
       "231         100858   False  ['Controle de estabilidade', 'Câmera de estaci...   \n",
       "232          67475   False  ['Sensor de chuva', 'Sensor de estacionamento'...   \n",
       "233           8497   False  ['Sensor de chuva', 'Vidros elétricos', 'Contr...   \n",
       "234           4420   False  ['Vidros elétricos', 'Bancos de couro', 'Pilot...   \n",
       "235            NaN    True  ['Ar condicionado', 'Sensor de chuva', 'Travas...   \n",
       "236          58537   False  ['Central multimídia', 'Bancos de couro', 'Câm...   \n",
       "237            NaN    True  ['Vidros elétricos', 'Travas elétricas', 'Roda...   \n",
       "238            NaN    True  ['Controle de tração', 'Ar condicionado', 'Cen...   \n",
       "239         112016   False  ['Controle de tração', 'Teto panorâmico', 'Vid...   \n",
       "240          91840   False  ['Rodas de liga', 'Sensor crepuscular', 'Ar co...   \n",
       "241         112787   False  ['Sensor crepuscular', 'Controle de tração', '...   \n",
       "242            NaN    True  ['Sensor crepuscular', 'Câmbio automático', 'C...   \n",
       "243            NaN    True  ['Central multimídia', 'Sensor crepuscular', '...   \n",
       "244           9293   False  ['Sensor de chuva', 'Vidros elétricos', 'Paine...   \n",
       "245            NaN    True  ['Travas elétricas', 'Ar condicionado', '4 X 4...   \n",
       "246          55083   False  ['Painel digital', 'Câmbio automático', 'Vidro...   \n",
       "247          48796   False  ['Sensor de estacionamento', 'Câmera de estaci...   \n",
       "248            NaN    True  ['Painel digital', 'Piloto automático', 'Centr...   \n",
       "249          89685   False  ['Rodas de liga', 'Freios ABS', 'Controle de t...   \n",
       "250          85384   False  ['Sensor crepuscular', 'Freios ABS', 'Ar condi...   \n",
       "251          98108   False  ['Sensor de chuva', 'Sensor de estacionamento'...   \n",
       "252          71280   False  ['Sensor de chuva', 'Vidros elétricos', 'Senso...   \n",
       "253          27505   False  ['Controle de estabilidade', 'Piloto automátic...   \n",
       "254          29981   False  ['Bancos de couro', 'Painel digital', 'Sensor ...   \n",
       "255          52637   False  ['Rodas de liga', 'Controle de tração', 'Câmbi...   \n",
       "256           7685   False  ['Ar condicionado', '4 X 4', 'Câmbio automátic...   \n",
       "257          50188   False  ['Central multimídia', 'Teto panorâmico', 'Vid...   \n",
       "\n",
       "         Valor  \n",
       "0     88078.64  \n",
       "1    106161.94  \n",
       "2     72832.16  \n",
       "3    124549.07  \n",
       "4     92612.10  \n",
       "5     97497.73  \n",
       "6     56445.20  \n",
       "7    112310.44  \n",
       "8    120716.27  \n",
       "9     76566.49  \n",
       "10    71647.59  \n",
       "11    73919.53  \n",
       "12   112732.99  \n",
       "13    53183.38  \n",
       "14   127488.42  \n",
       "15    59910.40  \n",
       "16    61118.59  \n",
       "17    88552.39  \n",
       "18    62696.69  \n",
       "19   101726.30  \n",
       "20   106147.38  \n",
       "21    94564.40  \n",
       "22   133529.84  \n",
       "23   125684.65  \n",
       "24   121596.21  \n",
       "25    71367.10  \n",
       "26    95347.75  \n",
       "27   105432.84  \n",
       "28    57045.27  \n",
       "29   120432.70  \n",
       "..         ...  \n",
       "228   76310.01  \n",
       "229  120481.74  \n",
       "230   54559.18  \n",
       "231   92957.64  \n",
       "232  127810.06  \n",
       "233   73311.75  \n",
       "234   65138.03  \n",
       "235   90141.47  \n",
       "236   71160.36  \n",
       "237   67539.79  \n",
       "238   67664.86  \n",
       "239   68652.16  \n",
       "240  114728.74  \n",
       "241  141645.08  \n",
       "242  126247.84  \n",
       "243  128852.21  \n",
       "244  132384.76  \n",
       "245  129415.33  \n",
       "246   89536.82  \n",
       "247   87975.30  \n",
       "248   77675.79  \n",
       "249   58881.67  \n",
       "250   55081.99  \n",
       "251  118826.44  \n",
       "252  137627.62  \n",
       "253   51759.58  \n",
       "254   51667.06  \n",
       "255   68934.03  \n",
       "256  122110.90  \n",
       "257   90381.47  \n",
       "\n",
       "[258 rows x 7 columns]"
      ]
     },
     "execution_count": 6,
     "metadata": {},
     "output_type": "execute_result"
    }
   ],
   "source": [
    "dataset"
   ]
  },
  {
   "cell_type": "code",
   "execution_count": 7,
   "metadata": {
    "button": false,
    "colab": {},
    "colab_type": "code",
    "collapsed": false,
    "deletable": true,
    "id": "5D739PzJD0_B",
    "new_sheet": false,
    "run_control": {
     "read_only": false
    }
   },
   "outputs": [
    {
     "data": {
      "text/plain": [
       "Nome              object\n",
       "Motor             object\n",
       "Ano                int64\n",
       "Quilometragem    float64\n",
       "Zero_km             bool\n",
       "Acessórios        object\n",
       "Valor            float64\n",
       "dtype: object"
      ]
     },
     "execution_count": 7,
     "metadata": {},
     "output_type": "execute_result"
    }
   ],
   "source": [
    "dataset.dtypes"
   ]
  },
  {
   "cell_type": "code",
   "execution_count": 8,
   "metadata": {
    "button": false,
    "colab": {},
    "colab_type": "code",
    "collapsed": false,
    "deletable": true,
    "id": "r_qUf16LD0_D",
    "new_sheet": false,
    "run_control": {
     "read_only": false
    }
   },
   "outputs": [
    {
     "data": {
      "text/html": [
       "<div>\n",
       "<table border=\"1\" class=\"dataframe\">\n",
       "  <thead>\n",
       "    <tr style=\"text-align: right;\">\n",
       "      <th></th>\n",
       "      <th>Quilometragem</th>\n",
       "      <th>Valor</th>\n",
       "    </tr>\n",
       "  </thead>\n",
       "  <tbody>\n",
       "    <tr>\n",
       "      <th>count</th>\n",
       "      <td>197.000000</td>\n",
       "      <td>258.000000</td>\n",
       "    </tr>\n",
       "    <tr>\n",
       "      <th>mean</th>\n",
       "      <td>58278.421320</td>\n",
       "      <td>98960.513101</td>\n",
       "    </tr>\n",
       "    <tr>\n",
       "      <th>std</th>\n",
       "      <td>35836.733259</td>\n",
       "      <td>29811.932305</td>\n",
       "    </tr>\n",
       "    <tr>\n",
       "      <th>min</th>\n",
       "      <td>107.000000</td>\n",
       "      <td>50742.100000</td>\n",
       "    </tr>\n",
       "    <tr>\n",
       "      <th>25%</th>\n",
       "      <td>27505.000000</td>\n",
       "      <td>70743.512500</td>\n",
       "    </tr>\n",
       "    <tr>\n",
       "      <th>50%</th>\n",
       "      <td>55083.000000</td>\n",
       "      <td>97724.380000</td>\n",
       "    </tr>\n",
       "    <tr>\n",
       "      <th>75%</th>\n",
       "      <td>90495.000000</td>\n",
       "      <td>124633.302500</td>\n",
       "    </tr>\n",
       "    <tr>\n",
       "      <th>max</th>\n",
       "      <td>119945.000000</td>\n",
       "      <td>149489.920000</td>\n",
       "    </tr>\n",
       "  </tbody>\n",
       "</table>\n",
       "</div>"
      ],
      "text/plain": [
       "       Quilometragem          Valor\n",
       "count     197.000000     258.000000\n",
       "mean    58278.421320   98960.513101\n",
       "std     35836.733259   29811.932305\n",
       "min       107.000000   50742.100000\n",
       "25%     27505.000000   70743.512500\n",
       "50%     55083.000000   97724.380000\n",
       "75%     90495.000000  124633.302500\n",
       "max    119945.000000  149489.920000"
      ]
     },
     "execution_count": 8,
     "metadata": {},
     "output_type": "execute_result"
    }
   ],
   "source": [
    "dataset[['Quilometragem', 'Valor']].describe()"
   ]
  },
  {
   "cell_type": "code",
   "execution_count": 9,
   "metadata": {
    "button": false,
    "colab": {},
    "colab_type": "code",
    "collapsed": false,
    "deletable": true,
    "id": "0R-_7PH5D0_E",
    "new_sheet": false,
    "run_control": {
     "read_only": false
    }
   },
   "outputs": [
    {
     "name": "stdout",
     "output_type": "stream",
     "text": [
      "<class 'pandas.core.frame.DataFrame'>\n",
      "Int64Index: 258 entries, 0 to 257\n",
      "Data columns (total 7 columns):\n",
      "Nome             258 non-null object\n",
      "Motor            258 non-null object\n",
      "Ano              258 non-null int64\n",
      "Quilometragem    197 non-null float64\n",
      "Zero_km          258 non-null bool\n",
      "Acessórios       258 non-null object\n",
      "Valor            258 non-null float64\n",
      "dtypes: bool(1), float64(2), int64(1), object(3)\n",
      "memory usage: 14.4+ KB\n"
     ]
    }
   ],
   "source": [
    "dataset.info()"
   ]
  },
  {
   "cell_type": "markdown",
   "metadata": {
    "button": false,
    "colab_type": "text",
    "deletable": true,
    "id": "htjoBLwiD0_F",
    "new_sheet": false,
    "run_control": {
     "read_only": false
    }
   },
   "source": [
    "# <font color=green> 2. TRABALHANDO COM TUPLAS\n",
    "---"
   ]
  },
  {
   "cell_type": "markdown",
   "metadata": {
    "button": false,
    "colab_type": "text",
    "deletable": true,
    "id": "MZH5_QnYD0_G",
    "new_sheet": false,
    "run_control": {
     "read_only": false
    }
   },
   "source": [
    "# 2.1 Criando tuplas\n",
    "\n",
    "Tuplas são sequências imutáveis que são utilizadas para armazenar coleções de itens, geralmente heterogêneos. Podem ser construídas de várias formas:\n",
    "```\n",
    "- Utilizando um par de parênteses: ( )\n",
    "- Utilizando uma vírgula à direita: x,\n",
    "- Utilizando um par de parênteses com itens separados por vírgulas: ( x, y, z )\n",
    "- Utilizando: tuple() ou tuple(iterador)\n",
    "```"
   ]
  },
  {
   "cell_type": "code",
   "execution_count": 10,
   "metadata": {
    "button": false,
    "colab": {},
    "colab_type": "code",
    "collapsed": false,
    "deletable": true,
    "id": "xzcs9fzeD0_G",
    "new_sheet": false,
    "run_control": {
     "read_only": false
    }
   },
   "outputs": [
    {
     "data": {
      "text/plain": [
       "()"
      ]
     },
     "execution_count": 10,
     "metadata": {},
     "output_type": "execute_result"
    }
   ],
   "source": [
    "()"
   ]
  },
  {
   "cell_type": "code",
   "execution_count": 11,
   "metadata": {
    "button": false,
    "colab": {},
    "colab_type": "code",
    "collapsed": false,
    "deletable": true,
    "id": "qJq7a2qTD0_I",
    "new_sheet": false,
    "run_control": {
     "read_only": false
    }
   },
   "outputs": [
    {
     "data": {
      "text/plain": [
       "(1, 2, 3)"
      ]
     },
     "execution_count": 11,
     "metadata": {},
     "output_type": "execute_result"
    }
   ],
   "source": [
    "1,2,3"
   ]
  },
  {
   "cell_type": "code",
   "execution_count": 12,
   "metadata": {
    "button": false,
    "colab": {},
    "colab_type": "code",
    "collapsed": false,
    "deletable": true,
    "id": "sg7LdvptD0_J",
    "new_sheet": false,
    "run_control": {
     "read_only": false
    }
   },
   "outputs": [
    {
     "data": {
      "text/plain": [
       "('Passat', 153000)"
      ]
     },
     "execution_count": 12,
     "metadata": {},
     "output_type": "execute_result"
    }
   ],
   "source": [
    "nome=\"Passat\"\n",
    "valor = 153000\n",
    "(nome, valor)"
   ]
  },
  {
   "cell_type": "code",
   "execution_count": 13,
   "metadata": {
    "button": false,
    "colab": {},
    "colab_type": "code",
    "collapsed": false,
    "deletable": true,
    "id": "XSSMebXjD0_K",
    "new_sheet": false,
    "run_control": {
     "read_only": false
    }
   },
   "outputs": [
    {
     "data": {
      "text/plain": [
       "('Jetta Variant', 'Passat', 'Crossfox', 'DS5')"
      ]
     },
     "execution_count": 13,
     "metadata": {},
     "output_type": "execute_result"
    }
   ],
   "source": [
    "nome_carros = tuple(['Jetta Variant', 'Passat', 'Crossfox', 'DS5'])\n",
    "nome_carros"
   ]
  },
  {
   "cell_type": "code",
   "execution_count": 14,
   "metadata": {
    "button": false,
    "colab": {},
    "colab_type": "code",
    "collapsed": false,
    "deletable": true,
    "id": "dpkdzrzRD0_M",
    "new_sheet": false,
    "run_control": {
     "read_only": false
    }
   },
   "outputs": [
    {
     "data": {
      "text/plain": [
       "tuple"
      ]
     },
     "execution_count": 14,
     "metadata": {},
     "output_type": "execute_result"
    }
   ],
   "source": [
    "type(nome_carros)"
   ]
  },
  {
   "cell_type": "markdown",
   "metadata": {
    "button": false,
    "colab_type": "text",
    "deletable": true,
    "id": "iKUY2DOUD0_N",
    "new_sheet": false,
    "run_control": {
     "read_only": false
    }
   },
   "source": [
    "# 2.2 Seleções em tuplas"
   ]
  },
  {
   "cell_type": "code",
   "execution_count": 15,
   "metadata": {
    "button": false,
    "colab": {},
    "colab_type": "code",
    "collapsed": false,
    "deletable": true,
    "id": "hBEeAM7_D0_N",
    "new_sheet": false,
    "run_control": {
     "read_only": false
    }
   },
   "outputs": [
    {
     "data": {
      "text/plain": [
       "('Jetta Variant', 'Passat', 'Crossfox', 'DS5')"
      ]
     },
     "execution_count": 15,
     "metadata": {},
     "output_type": "execute_result"
    }
   ],
   "source": [
    "nomes_carros = tuple(['Jetta Variant', 'Passat', 'Crossfox', 'DS5'])\n",
    "nomes_carros"
   ]
  },
  {
   "cell_type": "code",
   "execution_count": 16,
   "metadata": {
    "button": false,
    "colab": {},
    "colab_type": "code",
    "collapsed": false,
    "deletable": true,
    "id": "-mx_1E_tD0_P",
    "new_sheet": false,
    "run_control": {
     "read_only": false
    }
   },
   "outputs": [
    {
     "data": {
      "text/plain": [
       "'Jetta Variant'"
      ]
     },
     "execution_count": 16,
     "metadata": {},
     "output_type": "execute_result"
    }
   ],
   "source": [
    "nomes_carros[0]"
   ]
  },
  {
   "cell_type": "code",
   "execution_count": 17,
   "metadata": {
    "button": false,
    "colab": {},
    "colab_type": "code",
    "collapsed": false,
    "deletable": true,
    "id": "LMhyqnFID0_Q",
    "new_sheet": false,
    "run_control": {
     "read_only": false
    }
   },
   "outputs": [
    {
     "data": {
      "text/plain": [
       "'Passat'"
      ]
     },
     "execution_count": 17,
     "metadata": {},
     "output_type": "execute_result"
    }
   ],
   "source": [
    "nomes_carros[1]"
   ]
  },
  {
   "cell_type": "code",
   "execution_count": 18,
   "metadata": {
    "button": false,
    "colab": {},
    "colab_type": "code",
    "collapsed": false,
    "deletable": true,
    "id": "6btHff4BD0_T",
    "new_sheet": false,
    "run_control": {
     "read_only": false
    }
   },
   "outputs": [
    {
     "data": {
      "text/plain": [
       "'DS5'"
      ]
     },
     "execution_count": 18,
     "metadata": {},
     "output_type": "execute_result"
    }
   ],
   "source": [
    "nomes_carros[-1]"
   ]
  },
  {
   "cell_type": "code",
   "execution_count": 19,
   "metadata": {
    "button": false,
    "colab": {},
    "colab_type": "code",
    "collapsed": false,
    "deletable": true,
    "id": "K_Dc12xBD0_U",
    "new_sheet": false,
    "run_control": {
     "read_only": false
    }
   },
   "outputs": [
    {
     "data": {
      "text/plain": [
       "('Passat', 'Crossfox')"
      ]
     },
     "execution_count": 19,
     "metadata": {},
     "output_type": "execute_result"
    }
   ],
   "source": [
    "nomes_carros[1:3]"
   ]
  },
  {
   "cell_type": "code",
   "execution_count": 20,
   "metadata": {
    "button": false,
    "colab": {},
    "colab_type": "code",
    "collapsed": false,
    "deletable": true,
    "id": "zvrWYkkeD0_W",
    "new_sheet": false,
    "run_control": {
     "read_only": false
    }
   },
   "outputs": [
    {
     "data": {
      "text/plain": [
       "('Jetta Variant', 'Passat', 'Crossfox', 'DS5', ('Fusca', 'Gol', 'C4'))"
      ]
     },
     "execution_count": 20,
     "metadata": {},
     "output_type": "execute_result"
    }
   ],
   "source": [
    "nomes_carros = ('Jetta Variant', 'Passat', 'Crossfox', 'DS5', ('Fusca', 'Gol', 'C4'))\n",
    "nomes_carros"
   ]
  },
  {
   "cell_type": "code",
   "execution_count": 21,
   "metadata": {
    "button": false,
    "colab": {},
    "colab_type": "code",
    "collapsed": false,
    "deletable": true,
    "id": "Dw7tbM2ED0_Z",
    "new_sheet": false,
    "run_control": {
     "read_only": false
    }
   },
   "outputs": [
    {
     "data": {
      "text/plain": [
       "('Fusca', 'Gol', 'C4')"
      ]
     },
     "execution_count": 21,
     "metadata": {},
     "output_type": "execute_result"
    }
   ],
   "source": [
    "nomes_carros[-1]"
   ]
  },
  {
   "cell_type": "code",
   "execution_count": 22,
   "metadata": {
    "button": false,
    "colab": {},
    "colab_type": "code",
    "collapsed": false,
    "deletable": true,
    "id": "SAMD3BtXD0_b",
    "new_sheet": false,
    "run_control": {
     "read_only": false
    }
   },
   "outputs": [
    {
     "data": {
      "text/plain": [
       "'Gol'"
      ]
     },
     "execution_count": 22,
     "metadata": {},
     "output_type": "execute_result"
    }
   ],
   "source": [
    "nomes_carros[-1][1]"
   ]
  },
  {
   "cell_type": "markdown",
   "metadata": {
    "button": false,
    "colab_type": "text",
    "deletable": true,
    "id": "KLMxh4-0D0_c",
    "new_sheet": false,
    "run_control": {
     "read_only": false
    }
   },
   "source": [
    "# 2.3 Iterando em tuplas"
   ]
  },
  {
   "cell_type": "code",
   "execution_count": 23,
   "metadata": {
    "button": false,
    "colab": {},
    "colab_type": "code",
    "collapsed": false,
    "deletable": true,
    "id": "K53elKsYD0_c",
    "new_sheet": false,
    "run_control": {
     "read_only": false
    }
   },
   "outputs": [
    {
     "data": {
      "text/plain": [
       "('Jetta Variant', 'Passat', 'Crossfox', 'DS5')"
      ]
     },
     "execution_count": 23,
     "metadata": {},
     "output_type": "execute_result"
    }
   ],
   "source": [
    "nomes_carros = ('Jetta Variant', 'Passat', 'Crossfox', 'DS5')\n",
    "nomes_carros"
   ]
  },
  {
   "cell_type": "code",
   "execution_count": 24,
   "metadata": {
    "button": false,
    "colab": {},
    "colab_type": "code",
    "collapsed": false,
    "deletable": true,
    "id": "igZhZ5zdD0_d",
    "new_sheet": false,
    "run_control": {
     "read_only": false
    }
   },
   "outputs": [
    {
     "name": "stdout",
     "output_type": "stream",
     "text": [
      "Jetta Variant\n",
      "Passat\n",
      "Crossfox\n",
      "DS5\n"
     ]
    }
   ],
   "source": [
    "for item in nomes_carros:\n",
    "    print(item)"
   ]
  },
  {
   "cell_type": "markdown",
   "metadata": {
    "button": false,
    "colab_type": "text",
    "deletable": true,
    "id": "AOBjxBk8D0_f",
    "new_sheet": false,
    "run_control": {
     "read_only": false
    }
   },
   "source": [
    "### Desempacotamento de tuplas"
   ]
  },
  {
   "cell_type": "code",
   "execution_count": 25,
   "metadata": {
    "button": false,
    "colab": {},
    "colab_type": "code",
    "collapsed": false,
    "deletable": true,
    "id": "UoEFnumhD0_f",
    "new_sheet": false,
    "run_control": {
     "read_only": false
    }
   },
   "outputs": [
    {
     "data": {
      "text/plain": [
       "('Jetta Variant', 'Passat', 'Crossfox', 'DS5')"
      ]
     },
     "execution_count": 25,
     "metadata": {},
     "output_type": "execute_result"
    }
   ],
   "source": [
    "nomes_carros = ('Jetta Variant', 'Passat', 'Crossfox', 'DS5')\n",
    "nomes_carros"
   ]
  },
  {
   "cell_type": "code",
   "execution_count": 26,
   "metadata": {
    "button": false,
    "colab": {},
    "colab_type": "code",
    "collapsed": true,
    "deletable": true,
    "id": "AaCLcNYTD0_g",
    "new_sheet": false,
    "run_control": {
     "read_only": false
    }
   },
   "outputs": [],
   "source": [
    "carro_1,carro_2,carro_3,carro_4, = nomes_carros"
   ]
  },
  {
   "cell_type": "code",
   "execution_count": 27,
   "metadata": {
    "button": false,
    "colab": {},
    "colab_type": "code",
    "collapsed": false,
    "deletable": true,
    "id": "TA71S9egD0_h",
    "new_sheet": false,
    "run_control": {
     "read_only": false
    }
   },
   "outputs": [
    {
     "data": {
      "text/plain": [
       "'Jetta Variant'"
      ]
     },
     "execution_count": 27,
     "metadata": {},
     "output_type": "execute_result"
    }
   ],
   "source": [
    "carro_1"
   ]
  },
  {
   "cell_type": "code",
   "execution_count": 28,
   "metadata": {
    "button": false,
    "collapsed": false,
    "deletable": true,
    "new_sheet": false,
    "run_control": {
     "read_only": false
    }
   },
   "outputs": [
    {
     "data": {
      "text/plain": [
       "'Passat'"
      ]
     },
     "execution_count": 28,
     "metadata": {},
     "output_type": "execute_result"
    }
   ],
   "source": [
    "carro_2"
   ]
  },
  {
   "cell_type": "code",
   "execution_count": 29,
   "metadata": {
    "button": false,
    "colab": {},
    "colab_type": "code",
    "collapsed": false,
    "deletable": true,
    "id": "CHoJ034MD0_i",
    "new_sheet": false,
    "run_control": {
     "read_only": false
    }
   },
   "outputs": [
    {
     "data": {
      "text/plain": [
       "'Crossfox'"
      ]
     },
     "execution_count": 29,
     "metadata": {},
     "output_type": "execute_result"
    }
   ],
   "source": [
    "carro_3"
   ]
  },
  {
   "cell_type": "code",
   "execution_count": 30,
   "metadata": {
    "button": false,
    "colab": {},
    "colab_type": "code",
    "collapsed": false,
    "deletable": true,
    "id": "oxJrOuCSD0_j",
    "new_sheet": false,
    "run_control": {
     "read_only": false
    }
   },
   "outputs": [
    {
     "data": {
      "text/plain": [
       "'DS5'"
      ]
     },
     "execution_count": 30,
     "metadata": {},
     "output_type": "execute_result"
    }
   ],
   "source": [
    "carro_4"
   ]
  },
  {
   "cell_type": "code",
   "execution_count": 31,
   "metadata": {
    "button": false,
    "colab": {},
    "colab_type": "code",
    "collapsed": true,
    "deletable": true,
    "id": "BbR9sB4BD0_k",
    "new_sheet": false,
    "run_control": {
     "read_only": false
    }
   },
   "outputs": [],
   "source": [
    "_,A,_,B = nomes_carros"
   ]
  },
  {
   "cell_type": "code",
   "execution_count": 32,
   "metadata": {
    "button": false,
    "colab": {},
    "colab_type": "code",
    "collapsed": false,
    "deletable": true,
    "id": "aZvokrjPD0_m",
    "new_sheet": false,
    "run_control": {
     "read_only": false
    }
   },
   "outputs": [
    {
     "data": {
      "text/plain": [
       "'Passat'"
      ]
     },
     "execution_count": 32,
     "metadata": {},
     "output_type": "execute_result"
    }
   ],
   "source": [
    "A"
   ]
  },
  {
   "cell_type": "code",
   "execution_count": 33,
   "metadata": {
    "button": false,
    "colab": {},
    "colab_type": "code",
    "collapsed": false,
    "deletable": true,
    "id": "wZXDbVg0D0_o",
    "new_sheet": false,
    "run_control": {
     "read_only": false
    }
   },
   "outputs": [
    {
     "data": {
      "text/plain": [
       "'DS5'"
      ]
     },
     "execution_count": 33,
     "metadata": {},
     "output_type": "execute_result"
    }
   ],
   "source": [
    "B"
   ]
  },
  {
   "cell_type": "code",
   "execution_count": 34,
   "metadata": {
    "button": false,
    "colab": {},
    "colab_type": "code",
    "collapsed": true,
    "deletable": true,
    "id": "aWgDMBXiD0_p",
    "new_sheet": false,
    "run_control": {
     "read_only": false
    }
   },
   "outputs": [],
   "source": [
    "_, C, *_ = nomes_carros"
   ]
  },
  {
   "cell_type": "code",
   "execution_count": 35,
   "metadata": {
    "button": false,
    "colab": {},
    "colab_type": "code",
    "collapsed": false,
    "deletable": true,
    "id": "OdpgNh-ND0_q",
    "new_sheet": false,
    "run_control": {
     "read_only": false
    }
   },
   "outputs": [
    {
     "data": {
      "text/plain": [
       "'Passat'"
      ]
     },
     "execution_count": 35,
     "metadata": {},
     "output_type": "execute_result"
    }
   ],
   "source": [
    "C"
   ]
  },
  {
   "cell_type": "markdown",
   "metadata": {
    "button": false,
    "colab_type": "text",
    "deletable": true,
    "id": "u85Aou8WD0_s",
    "new_sheet": false,
    "run_control": {
     "read_only": false
    }
   },
   "source": [
    "## *zip()*\n",
    "\n",
    "https://docs.python.org/3.6/library/functions.html#zip"
   ]
  },
  {
   "cell_type": "code",
   "execution_count": 36,
   "metadata": {
    "button": false,
    "colab": {},
    "colab_type": "code",
    "collapsed": false,
    "deletable": true,
    "id": "PaC2oXGED0_t",
    "new_sheet": false,
    "run_control": {
     "read_only": false
    }
   },
   "outputs": [
    {
     "data": {
      "text/plain": [
       "['Jetta Variant', 'Passat', 'Crossfox', 'DS5']"
      ]
     },
     "execution_count": 36,
     "metadata": {},
     "output_type": "execute_result"
    }
   ],
   "source": [
    "carros = ['Jetta Variant', 'Passat', 'Crossfox', 'DS5']\n",
    "carros"
   ]
  },
  {
   "cell_type": "code",
   "execution_count": 37,
   "metadata": {
    "button": false,
    "colab": {},
    "colab_type": "code",
    "collapsed": false,
    "deletable": true,
    "id": "_02O1VnHD0_u",
    "new_sheet": false,
    "run_control": {
     "read_only": false
    }
   },
   "outputs": [
    {
     "data": {
      "text/plain": [
       "[88078.64, 106161.94, 72832.16, 124549.07]"
      ]
     },
     "execution_count": 37,
     "metadata": {},
     "output_type": "execute_result"
    }
   ],
   "source": [
    "valores = [88078.64, 106161.94, 72832.16, 124549.07]\n",
    "valores"
   ]
  },
  {
   "cell_type": "code",
   "execution_count": 38,
   "metadata": {
    "button": false,
    "colab": {},
    "colab_type": "code",
    "collapsed": false,
    "deletable": true,
    "id": "roQK5nYRD0_v",
    "new_sheet": false,
    "run_control": {
     "read_only": false
    }
   },
   "outputs": [
    {
     "data": {
      "text/plain": [
       "[('Jetta Variant', 88078.64),\n",
       " ('Passat', 106161.94),\n",
       " ('Crossfox', 72832.16),\n",
       " ('DS5', 124549.07)]"
      ]
     },
     "execution_count": 38,
     "metadata": {},
     "output_type": "execute_result"
    }
   ],
   "source": [
    "list(zip(carros, valores))"
   ]
  },
  {
   "cell_type": "code",
   "execution_count": 39,
   "metadata": {
    "button": false,
    "colab": {},
    "colab_type": "code",
    "collapsed": false,
    "deletable": true,
    "id": "_WRxIRHrD0_w",
    "new_sheet": false,
    "run_control": {
     "read_only": false
    }
   },
   "outputs": [
    {
     "name": "stdout",
     "output_type": "stream",
     "text": [
      "('Jetta Variant', 88078.64)\n",
      "('Passat', 106161.94)\n",
      "('Crossfox', 72832.16)\n",
      "('DS5', 124549.07)\n"
     ]
    }
   ],
   "source": [
    "for item in zip(carros, valores):\n",
    "    print(item)"
   ]
  },
  {
   "cell_type": "code",
   "execution_count": 40,
   "metadata": {
    "button": false,
    "colab": {},
    "colab_type": "code",
    "collapsed": false,
    "deletable": true,
    "id": "2zIuhIILD0_x",
    "new_sheet": false,
    "run_control": {
     "read_only": false
    }
   },
   "outputs": [
    {
     "name": "stdout",
     "output_type": "stream",
     "text": [
      "Jetta Variant 88078.64\n",
      "Passat 106161.94\n",
      "Crossfox 72832.16\n",
      "DS5 124549.07\n"
     ]
    }
   ],
   "source": [
    "for carro, valor in zip(carros, valores):\n",
    "    print(carro, valor)"
   ]
  },
  {
   "cell_type": "code",
   "execution_count": 41,
   "metadata": {
    "button": false,
    "colab": {},
    "colab_type": "code",
    "collapsed": false,
    "deletable": true,
    "id": "ZJaL62IpD0_y",
    "new_sheet": false,
    "run_control": {
     "read_only": false
    }
   },
   "outputs": [
    {
     "name": "stdout",
     "output_type": "stream",
     "text": [
      "Passat\n",
      "DS5\n"
     ]
    }
   ],
   "source": [
    "for carro, valor in zip(carros, valores):\n",
    "    if(valor > 100000):\n",
    "        print(carro)"
   ]
  },
  {
   "cell_type": "markdown",
   "metadata": {
    "button": false,
    "colab_type": "text",
    "deletable": true,
    "id": "xo76nR8rD0_0",
    "new_sheet": false,
    "run_control": {
     "read_only": false
    }
   },
   "source": [
    "# <font color=green> 3. TRABALHANDO COM DICIONÁRIOS\n",
    "---"
   ]
  },
  {
   "cell_type": "markdown",
   "metadata": {
    "button": false,
    "colab_type": "text",
    "deletable": true,
    "id": "wfWzOuztD0_0",
    "new_sheet": false,
    "run_control": {
     "read_only": false
    }
   },
   "source": [
    "# 3.1 Criando dicionários\n",
    "\n",
    "Listas são coleções sequenciais, isto é, os itens destas sequências estão ordenados e utilizam índices (números inteiros) para acessar os valores.\n",
    "\n",
    "Os dicionários são coleções um pouco diferentes. São estruturas de dados que representam um tipo de mapeamento. Mapeamentos são coleções de associações entre pares de valores onde o primeiro elemento do par é conhecido como chave (*key*) e o segundo como valor (*value*).\n",
    "\n",
    "```\n",
    "dicionario = {key_1: value_1, key_2: value_2, ..., key_n: value_n}\n",
    "```\n",
    "\n",
    "https://docs.python.org/3.6/library/stdtypes.html#typesmapping"
   ]
  },
  {
   "cell_type": "code",
   "execution_count": null,
   "metadata": {
    "button": false,
    "colab": {},
    "colab_type": "code",
    "collapsed": true,
    "deletable": true,
    "id": "SuPcV9v6D0_0",
    "new_sheet": false,
    "run_control": {
     "read_only": false
    }
   },
   "outputs": [],
   "source": []
  },
  {
   "cell_type": "code",
   "execution_count": 42,
   "metadata": {
    "button": false,
    "colab": {},
    "colab_type": "code",
    "collapsed": false,
    "deletable": true,
    "id": "YIFVkWT6D0_1",
    "new_sheet": false,
    "run_control": {
     "read_only": false
    }
   },
   "outputs": [
    {
     "data": {
      "text/plain": [
       "['Jetta Variant', 'Passat', 'Crossfox']"
      ]
     },
     "execution_count": 42,
     "metadata": {},
     "output_type": "execute_result"
    }
   ],
   "source": [
    "carros = ['Jetta Variant', 'Passat', 'Crossfox']\n",
    "carros"
   ]
  },
  {
   "cell_type": "code",
   "execution_count": 43,
   "metadata": {
    "button": false,
    "colab": {},
    "colab_type": "code",
    "collapsed": false,
    "deletable": true,
    "id": "2LHiBn3-D0_2",
    "new_sheet": false,
    "run_control": {
     "read_only": false
    }
   },
   "outputs": [
    {
     "data": {
      "text/plain": [
       "[88078.64, 106161.94, 72832.16]"
      ]
     },
     "execution_count": 43,
     "metadata": {},
     "output_type": "execute_result"
    }
   ],
   "source": [
    "valores = [88078.64, 106161.94, 72832.16]\n",
    "valores"
   ]
  },
  {
   "cell_type": "code",
   "execution_count": 44,
   "metadata": {
    "button": false,
    "colab": {},
    "colab_type": "code",
    "collapsed": false,
    "deletable": true,
    "id": "YxLAx_sqD0_4",
    "new_sheet": false,
    "run_control": {
     "read_only": false
    }
   },
   "outputs": [
    {
     "data": {
      "text/plain": [
       "1"
      ]
     },
     "execution_count": 44,
     "metadata": {},
     "output_type": "execute_result"
    }
   ],
   "source": [
    "carros.index('Passat')"
   ]
  },
  {
   "cell_type": "code",
   "execution_count": 45,
   "metadata": {
    "button": false,
    "colab": {},
    "colab_type": "code",
    "collapsed": false,
    "deletable": true,
    "id": "WITNWExID0_7",
    "new_sheet": false,
    "run_control": {
     "read_only": false
    }
   },
   "outputs": [
    {
     "data": {
      "text/plain": [
       "106161.94"
      ]
     },
     "execution_count": 45,
     "metadata": {},
     "output_type": "execute_result"
    }
   ],
   "source": [
    "valores[carros.index('Passat')]"
   ]
  },
  {
   "cell_type": "code",
   "execution_count": 46,
   "metadata": {
    "button": false,
    "colab": {},
    "colab_type": "code",
    "collapsed": true,
    "deletable": true,
    "id": "CHoJ034MD0_i",
    "new_sheet": false,
    "run_control": {
     "read_only": false
    }
   },
   "outputs": [],
   "source": [
    "dados = {'Jetta Variant': 88078.64, 'Passat': 106161.94, 'Crossfox': 72832.16}"
   ]
  },
  {
   "cell_type": "code",
   "execution_count": 47,
   "metadata": {
    "button": false,
    "colab": {},
    "colab_type": "code",
    "collapsed": false,
    "deletable": true,
    "id": "bHNqoDbTD0_8",
    "new_sheet": false,
    "run_control": {
     "read_only": false
    }
   },
   "outputs": [
    {
     "data": {
      "text/plain": [
       "{'Crossfox': 72832.16, 'Jetta Variant': 88078.64, 'Passat': 106161.94}"
      ]
     },
     "execution_count": 47,
     "metadata": {},
     "output_type": "execute_result"
    }
   ],
   "source": [
    "dados"
   ]
  },
  {
   "cell_type": "code",
   "execution_count": null,
   "metadata": {
    "button": false,
    "colab": {},
    "colab_type": "code",
    "collapsed": true,
    "deletable": true,
    "id": "4FyQgmcAD0_9",
    "new_sheet": false,
    "run_control": {
     "read_only": false
    }
   },
   "outputs": [],
   "source": []
  },
  {
   "cell_type": "markdown",
   "metadata": {
    "button": false,
    "colab_type": "text",
    "deletable": true,
    "id": "PQg-MLkGD0_-",
    "new_sheet": false,
    "run_control": {
     "read_only": false
    }
   },
   "source": [
    "### Criando dicionários com *zip()*"
   ]
  },
  {
   "cell_type": "code",
   "execution_count": 48,
   "metadata": {
    "button": false,
    "colab": {},
    "colab_type": "code",
    "collapsed": false,
    "deletable": true,
    "id": "iB4Q_gbND0__",
    "new_sheet": false,
    "run_control": {
     "read_only": false
    }
   },
   "outputs": [
    {
     "data": {
      "text/plain": [
       "[('Jetta Variant', 88078.64), ('Passat', 106161.94), ('Crossfox', 72832.16)]"
      ]
     },
     "execution_count": 48,
     "metadata": {},
     "output_type": "execute_result"
    }
   ],
   "source": [
    "list(zip(carros, valores))"
   ]
  },
  {
   "cell_type": "code",
   "execution_count": 49,
   "metadata": {
    "button": false,
    "colab": {},
    "colab_type": "code",
    "collapsed": false,
    "deletable": true,
    "id": "mIgZqdKKD1AA",
    "new_sheet": false,
    "run_control": {
     "read_only": false
    }
   },
   "outputs": [
    {
     "data": {
      "text/plain": [
       "{'Crossfox': 72832.16, 'Jetta Variant': 88078.64, 'Passat': 106161.94}"
      ]
     },
     "execution_count": 49,
     "metadata": {},
     "output_type": "execute_result"
    }
   ],
   "source": [
    "dados = dict(zip(carros,valores))\n",
    "dados"
   ]
  },
  {
   "cell_type": "markdown",
   "metadata": {
    "button": false,
    "colab_type": "text",
    "deletable": true,
    "id": "KYeRqavFD1AD",
    "new_sheet": false,
    "run_control": {
     "read_only": false
    }
   },
   "source": [
    "# 3.2 Operações com dicionários"
   ]
  },
  {
   "cell_type": "markdown",
   "metadata": {
    "button": false,
    "colab_type": "text",
    "deletable": true,
    "id": "KzmWbEltD1AD",
    "new_sheet": false,
    "run_control": {
     "read_only": false
    }
   },
   "source": [
    "## *dict[ key ]*\n",
    "\n",
    "Retorna o valor correspondente à chave (*key*) no dicionário."
   ]
  },
  {
   "cell_type": "code",
   "execution_count": 50,
   "metadata": {
    "button": false,
    "colab": {},
    "colab_type": "code",
    "collapsed": false,
    "deletable": true,
    "id": "hFFDz6wKD1AD",
    "new_sheet": false,
    "run_control": {
     "read_only": false
    }
   },
   "outputs": [
    {
     "data": {
      "text/plain": [
       "106161.94"
      ]
     },
     "execution_count": 50,
     "metadata": {},
     "output_type": "execute_result"
    }
   ],
   "source": [
    "dados['Passat']"
   ]
  },
  {
   "cell_type": "markdown",
   "metadata": {
    "button": false,
    "colab_type": "text",
    "deletable": true,
    "id": "SWlE6VTBD1AE",
    "new_sheet": false,
    "run_control": {
     "read_only": false
    }
   },
   "source": [
    "## *key in dict*\n",
    "\n",
    "Retorna **True** se a chave (*key*) for encontrada no dicionário."
   ]
  },
  {
   "cell_type": "code",
   "execution_count": 51,
   "metadata": {
    "button": false,
    "colab": {},
    "colab_type": "code",
    "collapsed": false,
    "deletable": true,
    "id": "Iy88SxBtD1AE",
    "new_sheet": false,
    "run_control": {
     "read_only": false
    }
   },
   "outputs": [
    {
     "data": {
      "text/plain": [
       "True"
      ]
     },
     "execution_count": 51,
     "metadata": {},
     "output_type": "execute_result"
    }
   ],
   "source": [
    "'Passat' in dados"
   ]
  },
  {
   "cell_type": "code",
   "execution_count": 52,
   "metadata": {
    "button": false,
    "colab": {},
    "colab_type": "code",
    "collapsed": false,
    "deletable": true,
    "id": "Oma56NkAD1AF",
    "new_sheet": false,
    "run_control": {
     "read_only": false
    }
   },
   "outputs": [
    {
     "data": {
      "text/plain": [
       "False"
      ]
     },
     "execution_count": 52,
     "metadata": {},
     "output_type": "execute_result"
    }
   ],
   "source": [
    "'Fusca' in dados"
   ]
  },
  {
   "cell_type": "code",
   "execution_count": 53,
   "metadata": {
    "button": false,
    "colab": {},
    "colab_type": "code",
    "collapsed": false,
    "deletable": true,
    "id": "yS2U-_8gD1AG",
    "new_sheet": false,
    "run_control": {
     "read_only": false
    }
   },
   "outputs": [
    {
     "data": {
      "text/plain": [
       "True"
      ]
     },
     "execution_count": 53,
     "metadata": {},
     "output_type": "execute_result"
    }
   ],
   "source": [
    "'Fusca' not in dados"
   ]
  },
  {
   "cell_type": "markdown",
   "metadata": {
    "button": false,
    "colab_type": "text",
    "deletable": true,
    "id": "oWbWyDd0D1AI",
    "new_sheet": false,
    "run_control": {
     "read_only": false
    }
   },
   "source": [
    "## *len(dict)*\n",
    "\n",
    "Retorna o número de itens do dicionário."
   ]
  },
  {
   "cell_type": "code",
   "execution_count": 54,
   "metadata": {
    "button": false,
    "colab": {},
    "colab_type": "code",
    "collapsed": false,
    "deletable": true,
    "id": "k08YkCc1D1AJ",
    "new_sheet": false,
    "run_control": {
     "read_only": false
    }
   },
   "outputs": [
    {
     "data": {
      "text/plain": [
       "3"
      ]
     },
     "execution_count": 54,
     "metadata": {},
     "output_type": "execute_result"
    }
   ],
   "source": [
    "len(dados)"
   ]
  },
  {
   "cell_type": "markdown",
   "metadata": {
    "button": false,
    "colab_type": "text",
    "deletable": true,
    "id": "yYNqIHJBD1AK",
    "new_sheet": false,
    "run_control": {
     "read_only": false
    }
   },
   "source": [
    "## *dict[ key ] = value*\n",
    "\n",
    "Inclui um item ao dicionário."
   ]
  },
  {
   "cell_type": "code",
   "execution_count": 55,
   "metadata": {
    "button": false,
    "colab": {},
    "colab_type": "code",
    "collapsed": false,
    "deletable": true,
    "id": "5jj3i52bD1AK",
    "new_sheet": false,
    "run_control": {
     "read_only": false
    }
   },
   "outputs": [],
   "source": [
    "dados['DSS'] = 124549.07"
   ]
  },
  {
   "cell_type": "code",
   "execution_count": 56,
   "metadata": {
    "button": false,
    "colab": {},
    "colab_type": "code",
    "collapsed": false,
    "deletable": true,
    "id": "y6rso5hLD1AL",
    "new_sheet": false,
    "run_control": {
     "read_only": false
    }
   },
   "outputs": [
    {
     "data": {
      "text/plain": [
       "{'Crossfox': 72832.16,\n",
       " 'DSS': 124549.07,\n",
       " 'Jetta Variant': 88078.64,\n",
       " 'Passat': 106161.94}"
      ]
     },
     "execution_count": 56,
     "metadata": {},
     "output_type": "execute_result"
    }
   ],
   "source": [
    "dados"
   ]
  },
  {
   "cell_type": "markdown",
   "metadata": {
    "button": false,
    "colab_type": "text",
    "deletable": true,
    "id": "_z0JySuqD1AL",
    "new_sheet": false,
    "run_control": {
     "read_only": false
    }
   },
   "source": [
    "## *del dict[ key ]*\n",
    "\n",
    "Remove o item de chave (*key*) do dicionário."
   ]
  },
  {
   "cell_type": "code",
   "execution_count": 57,
   "metadata": {
    "button": false,
    "colab": {},
    "colab_type": "code",
    "collapsed": false,
    "deletable": true,
    "id": "PPfh6sfID1AM",
    "new_sheet": false,
    "run_control": {
     "read_only": false
    }
   },
   "outputs": [
    {
     "data": {
      "text/plain": [
       "{'Crossfox': 72832.16,\n",
       " 'DSS': 124549.07,\n",
       " 'Jetta Variant': 88078.64,\n",
       " 'Passat': 106161.94}"
      ]
     },
     "execution_count": 57,
     "metadata": {},
     "output_type": "execute_result"
    }
   ],
   "source": [
    "dados"
   ]
  },
  {
   "cell_type": "code",
   "execution_count": 58,
   "metadata": {
    "button": false,
    "colab": {},
    "colab_type": "code",
    "collapsed": false,
    "deletable": true,
    "id": "BtjGpXtGD1AN",
    "new_sheet": false,
    "run_control": {
     "read_only": false
    }
   },
   "outputs": [
    {
     "data": {
      "text/plain": [
       "{'Crossfox': 72832.16, 'Jetta Variant': 88078.64, 'Passat': 106161.94}"
      ]
     },
     "execution_count": 58,
     "metadata": {},
     "output_type": "execute_result"
    }
   ],
   "source": [
    "del dados['DSS']\n",
    "dados"
   ]
  },
  {
   "cell_type": "markdown",
   "metadata": {
    "button": false,
    "colab_type": "text",
    "deletable": true,
    "id": "FodJVx5sD1AP",
    "new_sheet": false,
    "run_control": {
     "read_only": false
    }
   },
   "source": [
    "# 3.3 Métodos de dicionários"
   ]
  },
  {
   "cell_type": "markdown",
   "metadata": {
    "button": false,
    "colab_type": "text",
    "deletable": true,
    "id": "7pqdPOkYD1AP",
    "new_sheet": false,
    "run_control": {
     "read_only": false
    }
   },
   "source": [
    "## *dict.update()*\n",
    "\n",
    "Atualiza o dicionário."
   ]
  },
  {
   "cell_type": "code",
   "execution_count": 74,
   "metadata": {
    "button": false,
    "colab": {},
    "colab_type": "code",
    "collapsed": true,
    "deletable": true,
    "id": "DUySYxKQD1AQ",
    "new_sheet": false,
    "run_control": {
     "read_only": false
    }
   },
   "outputs": [],
   "source": [
    "dados.update({\n",
    "        'Passat': 106161.94,\n",
    "        'Fusca': 123123123.04\n",
    "    })"
   ]
  },
  {
   "cell_type": "code",
   "execution_count": 75,
   "metadata": {
    "button": false,
    "colab": {},
    "colab_type": "code",
    "collapsed": false,
    "deletable": true,
    "id": "DLsqp71cD1AR",
    "new_sheet": false,
    "run_control": {
     "read_only": false
    }
   },
   "outputs": [
    {
     "data": {
      "text/plain": [
       "{'Crossfox': 72832.16,\n",
       " 'Fusca': 123123123.04,\n",
       " 'Jetta Variant': 88078.64,\n",
       " 'Passat': 106161.94}"
      ]
     },
     "execution_count": 75,
     "metadata": {},
     "output_type": "execute_result"
    }
   ],
   "source": [
    "dados"
   ]
  },
  {
   "cell_type": "markdown",
   "metadata": {
    "button": false,
    "colab_type": "text",
    "deletable": true,
    "id": "JLs5c0DeD1AR",
    "new_sheet": false,
    "run_control": {
     "read_only": false
    }
   },
   "source": [
    "## *dict.copy()*\n",
    "\n",
    "Cria uma cópia do dicionário."
   ]
  },
  {
   "cell_type": "code",
   "execution_count": 76,
   "metadata": {
    "button": false,
    "colab": {},
    "colab_type": "code",
    "collapsed": true,
    "deletable": true,
    "id": "X9F7OB3eD1AS",
    "new_sheet": false,
    "run_control": {
     "read_only": false
    }
   },
   "outputs": [],
   "source": [
    "dados_copy = dados.copy()"
   ]
  },
  {
   "cell_type": "code",
   "execution_count": 77,
   "metadata": {
    "button": false,
    "colab": {},
    "colab_type": "code",
    "collapsed": false,
    "deletable": true,
    "id": "v0rL0bveD1AS",
    "new_sheet": false,
    "run_control": {
     "read_only": false
    }
   },
   "outputs": [
    {
     "data": {
      "text/plain": [
       "{'Crossfox': 72832.16,\n",
       " 'Fusca': 123123123.04,\n",
       " 'Jetta Variant': 88078.64,\n",
       " 'Passat': 106161.94}"
      ]
     },
     "execution_count": 77,
     "metadata": {},
     "output_type": "execute_result"
    }
   ],
   "source": [
    "dados_copy"
   ]
  },
  {
   "cell_type": "code",
   "execution_count": 78,
   "metadata": {
    "button": false,
    "colab": {},
    "colab_type": "code",
    "collapsed": false,
    "deletable": true,
    "id": "M-abRGGrD1AT",
    "new_sheet": false,
    "run_control": {
     "read_only": false
    }
   },
   "outputs": [
    {
     "data": {
      "text/plain": [
       "{'Crossfox': 72832.16, 'Jetta Variant': 88078.64, 'Passat': 106161.94}"
      ]
     },
     "execution_count": 78,
     "metadata": {},
     "output_type": "execute_result"
    }
   ],
   "source": [
    "del dados_copy['Fusca']\n",
    "dados_copy"
   ]
  },
  {
   "cell_type": "code",
   "execution_count": 79,
   "metadata": {
    "button": false,
    "colab": {},
    "colab_type": "code",
    "collapsed": false,
    "deletable": true,
    "id": "ETBD0TkND1AU",
    "new_sheet": false,
    "run_control": {
     "read_only": false
    }
   },
   "outputs": [
    {
     "data": {
      "text/plain": [
       "{'Crossfox': 72832.16,\n",
       " 'Fusca': 123123123.04,\n",
       " 'Jetta Variant': 88078.64,\n",
       " 'Passat': 106161.94}"
      ]
     },
     "execution_count": 79,
     "metadata": {},
     "output_type": "execute_result"
    }
   ],
   "source": [
    "dados"
   ]
  },
  {
   "cell_type": "markdown",
   "metadata": {
    "button": false,
    "colab_type": "text",
    "deletable": true,
    "id": "mNODkmHCD1AV",
    "new_sheet": false,
    "run_control": {
     "read_only": false
    }
   },
   "source": [
    "## *dict.pop(key[, default ])*\n",
    "\n",
    "Se a chave for encontrada no dicionário, o item é removido e seu valor é retornado. Caso contrário, o valor especificado como *default* é retornado. Se o valor *default* não for fornecido e a chave não for encontrada no dicionário um erro será gerado."
   ]
  },
  {
   "cell_type": "code",
   "execution_count": 80,
   "metadata": {
    "button": false,
    "colab": {},
    "colab_type": "code",
    "collapsed": false,
    "deletable": true,
    "id": "_4QEPwScD1AW",
    "new_sheet": false,
    "run_control": {
     "read_only": false
    }
   },
   "outputs": [
    {
     "data": {
      "text/plain": [
       "{'Crossfox': 72832.16, 'Jetta Variant': 88078.64, 'Passat': 106161.94}"
      ]
     },
     "execution_count": 80,
     "metadata": {},
     "output_type": "execute_result"
    }
   ],
   "source": [
    "dados_copy"
   ]
  },
  {
   "cell_type": "code",
   "execution_count": 81,
   "metadata": {
    "button": false,
    "colab": {},
    "colab_type": "code",
    "collapsed": false,
    "deletable": true,
    "id": "Hjh0MuymD1AX",
    "new_sheet": false,
    "run_control": {
     "read_only": false
    }
   },
   "outputs": [
    {
     "data": {
      "text/plain": [
       "106161.94"
      ]
     },
     "execution_count": 81,
     "metadata": {},
     "output_type": "execute_result"
    }
   ],
   "source": [
    "dados_copy.pop('Passat')"
   ]
  },
  {
   "cell_type": "code",
   "execution_count": 82,
   "metadata": {
    "button": false,
    "colab": {},
    "colab_type": "code",
    "collapsed": false,
    "deletable": true,
    "id": "f51rKjkuD1AX",
    "new_sheet": false,
    "run_control": {
     "read_only": false
    }
   },
   "outputs": [
    {
     "data": {
      "text/plain": [
       "{'Crossfox': 72832.16, 'Jetta Variant': 88078.64}"
      ]
     },
     "execution_count": 82,
     "metadata": {},
     "output_type": "execute_result"
    }
   ],
   "source": [
    "dados_copy"
   ]
  },
  {
   "cell_type": "code",
   "execution_count": null,
   "metadata": {
    "button": false,
    "colab": {},
    "colab_type": "code",
    "collapsed": false,
    "deletable": true,
    "id": "Ah4sZ7axD1AZ",
    "new_sheet": false,
    "run_control": {
     "read_only": false
    }
   },
   "outputs": [],
   "source": [
    "# dados_copy.pop('Passat')"
   ]
  },
  {
   "cell_type": "code",
   "execution_count": 83,
   "metadata": {
    "button": false,
    "colab": {},
    "colab_type": "code",
    "collapsed": false,
    "deletable": true,
    "id": "SJATRY8RD1Aa",
    "new_sheet": false,
    "run_control": {
     "read_only": false
    }
   },
   "outputs": [
    {
     "data": {
      "text/plain": [
       "'Chave não encontrada'"
      ]
     },
     "execution_count": 83,
     "metadata": {},
     "output_type": "execute_result"
    }
   ],
   "source": [
    "dados_copy.pop('Passat', 'Chave não encontrada')"
   ]
  },
  {
   "cell_type": "markdown",
   "metadata": {
    "button": false,
    "colab_type": "text",
    "deletable": true,
    "id": "Q5J0R7d3D1Ag",
    "new_sheet": false,
    "run_control": {
     "read_only": false
    }
   },
   "source": [
    "## *dict.clear()*\n",
    "\n",
    "Remove todos os itens do dicionário."
   ]
  },
  {
   "cell_type": "code",
   "execution_count": 84,
   "metadata": {
    "button": false,
    "colab": {},
    "colab_type": "code",
    "collapsed": true,
    "deletable": true,
    "id": "AvkP_8mND1Ag",
    "new_sheet": false,
    "run_control": {
     "read_only": false
    }
   },
   "outputs": [],
   "source": [
    "dados_copy.clear()"
   ]
  },
  {
   "cell_type": "code",
   "execution_count": 85,
   "metadata": {
    "button": false,
    "colab": {},
    "colab_type": "code",
    "collapsed": false,
    "deletable": true,
    "id": "S69pMYboD1Ah",
    "new_sheet": false,
    "run_control": {
     "read_only": false
    }
   },
   "outputs": [
    {
     "data": {
      "text/plain": [
       "{}"
      ]
     },
     "execution_count": 85,
     "metadata": {},
     "output_type": "execute_result"
    }
   ],
   "source": [
    "dados_copy"
   ]
  },
  {
   "cell_type": "markdown",
   "metadata": {
    "button": false,
    "colab_type": "text",
    "deletable": true,
    "id": "QhoSRfPsD1Ai",
    "new_sheet": false,
    "run_control": {
     "read_only": false
    }
   },
   "source": [
    "# 3.4 Iterando em dicionários"
   ]
  },
  {
   "cell_type": "markdown",
   "metadata": {
    "button": false,
    "colab_type": "text",
    "deletable": true,
    "id": "E-agaqakD1Ai",
    "new_sheet": false,
    "run_control": {
     "read_only": false
    }
   },
   "source": [
    "## *dict.keys()*\n",
    "\n",
    "Retorna uma lista contendo as chaves (*keys*) do dicionário."
   ]
  },
  {
   "cell_type": "code",
   "execution_count": 86,
   "metadata": {
    "button": false,
    "colab": {},
    "colab_type": "code",
    "collapsed": false,
    "deletable": true,
    "id": "qFADEYmBD1Aj",
    "new_sheet": false,
    "run_control": {
     "read_only": false
    }
   },
   "outputs": [
    {
     "data": {
      "text/plain": [
       "dict_keys(['Jetta Variant', 'Fusca', 'Passat', 'Crossfox'])"
      ]
     },
     "execution_count": 86,
     "metadata": {},
     "output_type": "execute_result"
    }
   ],
   "source": [
    "dados.keys()"
   ]
  },
  {
   "cell_type": "code",
   "execution_count": 88,
   "metadata": {
    "button": false,
    "colab": {},
    "colab_type": "code",
    "collapsed": false,
    "deletable": true,
    "id": "niwh9AgDD1Aj",
    "new_sheet": false,
    "run_control": {
     "read_only": false
    }
   },
   "outputs": [
    {
     "name": "stdout",
     "output_type": "stream",
     "text": [
      "88078.64\n",
      "123123123.04\n",
      "106161.94\n",
      "72832.16\n"
     ]
    }
   ],
   "source": [
    "for key in dados.keys():\n",
    "    print(dados[key])"
   ]
  },
  {
   "cell_type": "markdown",
   "metadata": {
    "button": false,
    "colab_type": "text",
    "deletable": true,
    "id": "qFj6Cc7dD1Ak",
    "new_sheet": false,
    "run_control": {
     "read_only": false
    }
   },
   "source": [
    "## *dict.values()*\n",
    "\n",
    "Retorna uma lista com todos os valores (*values*) do dicionário."
   ]
  },
  {
   "cell_type": "code",
   "execution_count": 89,
   "metadata": {
    "button": false,
    "colab": {},
    "colab_type": "code",
    "collapsed": false,
    "deletable": true,
    "id": "nfpLxrQVD1Al",
    "new_sheet": false,
    "run_control": {
     "read_only": false
    }
   },
   "outputs": [
    {
     "data": {
      "text/plain": [
       "dict_values([88078.64, 123123123.04, 106161.94, 72832.16])"
      ]
     },
     "execution_count": 89,
     "metadata": {},
     "output_type": "execute_result"
    }
   ],
   "source": [
    "dados.values()"
   ]
  },
  {
   "cell_type": "markdown",
   "metadata": {
    "button": false,
    "colab_type": "text",
    "deletable": true,
    "id": "-NGRwX0AD1Al",
    "new_sheet": false,
    "run_control": {
     "read_only": false
    }
   },
   "source": [
    "## *dict.items()*\n",
    "\n",
    "Retorna uma lista contendo uma tupla para cada par chave-valor (*key-value*) do dicionário."
   ]
  },
  {
   "cell_type": "code",
   "execution_count": 91,
   "metadata": {
    "button": false,
    "colab": {},
    "colab_type": "code",
    "collapsed": false,
    "deletable": true,
    "id": "Q2I9_6YvD1Am",
    "new_sheet": false,
    "run_control": {
     "read_only": false
    }
   },
   "outputs": [
    {
     "data": {
      "text/plain": [
       "dict_items([('Jetta Variant', 88078.64), ('Fusca', 123123123.04), ('Passat', 106161.94), ('Crossfox', 72832.16)])"
      ]
     },
     "execution_count": 91,
     "metadata": {},
     "output_type": "execute_result"
    }
   ],
   "source": [
    "dados.items()"
   ]
  },
  {
   "cell_type": "code",
   "execution_count": 93,
   "metadata": {
    "button": false,
    "colab": {},
    "colab_type": "code",
    "collapsed": false,
    "deletable": true,
    "id": "0j41ZqgQD1Am",
    "new_sheet": false,
    "run_control": {
     "read_only": false
    }
   },
   "outputs": [
    {
     "name": "stdout",
     "output_type": "stream",
     "text": [
      "('Jetta Variant', 88078.64)\n",
      "('Fusca', 123123123.04)\n",
      "('Passat', 106161.94)\n",
      "('Crossfox', 72832.16)\n"
     ]
    }
   ],
   "source": [
    "for item in dados.items():\n",
    "    print(item)"
   ]
  },
  {
   "cell_type": "code",
   "execution_count": 95,
   "metadata": {
    "button": false,
    "colab": {},
    "colab_type": "code",
    "collapsed": false,
    "deletable": true,
    "id": "OVY9rIwFD1An",
    "new_sheet": false,
    "run_control": {
     "read_only": false
    }
   },
   "outputs": [
    {
     "name": "stdout",
     "output_type": "stream",
     "text": [
      "Jetta Variant 88078.64\n",
      "Fusca 123123123.04\n",
      "Passat 106161.94\n",
      "Crossfox 72832.16\n"
     ]
    }
   ],
   "source": [
    "for key, value in dados.items():\n",
    "    print(key, value)"
   ]
  },
  {
   "cell_type": "code",
   "execution_count": 97,
   "metadata": {
    "button": false,
    "colab": {},
    "colab_type": "code",
    "collapsed": false,
    "deletable": true,
    "id": "ma2Ol8vcD1Ap",
    "new_sheet": false,
    "run_control": {
     "read_only": false
    }
   },
   "outputs": [
    {
     "name": "stdout",
     "output_type": "stream",
     "text": [
      "Fusca\n",
      "Passat\n"
     ]
    }
   ],
   "source": [
    "for key, value in dados.items():\n",
    "    if value > 100000: print(key)"
   ]
  },
  {
   "cell_type": "markdown",
   "metadata": {
    "button": false,
    "colab_type": "text",
    "deletable": true,
    "id": "-q3AlSg3D1Aq",
    "new_sheet": false,
    "run_control": {
     "read_only": false
    }
   },
   "source": [
    "# <font color=green> 4. FUNÇÕES E PACOTES\n",
    "---\n",
    "    \n",
    "Funções são unidades de código reutilizáveis que realizam uma tarefa específica, podem receber alguma entrada e também podem retornar alguma resultado."
   ]
  },
  {
   "cell_type": "markdown",
   "metadata": {
    "button": false,
    "colab_type": "text",
    "deletable": true,
    "id": "5CfEcU58D1Aq",
    "new_sheet": false,
    "run_control": {
     "read_only": false
    }
   },
   "source": [
    "# 4.1 Built-in function\n",
    "\n",
    "A linguagem Python possui várias funções integradas que estão sempre acessíveis. Algumas já utilizamos em nosso treinamento: type(), print(), zip(), len(), set() etc.\n",
    "\n",
    "https://docs.python.org/3.6/library/functions.html"
   ]
  },
  {
   "cell_type": "code",
   "execution_count": 48,
   "metadata": {
    "button": false,
    "colab": {},
    "colab_type": "code",
    "collapsed": false,
    "deletable": true,
    "id": "DP7cmY7xD1Aq",
    "new_sheet": false,
    "run_control": {
     "read_only": false
    }
   },
   "outputs": [
    {
     "data": {
      "text/plain": [
       "{'Crossfox': 72832.16, 'Jetta Variant': 88078.64, 'Passat': 106161.94}"
      ]
     },
     "execution_count": 48,
     "metadata": {},
     "output_type": "execute_result"
    }
   ],
   "source": [
    "dados = {'Jetta Variant': 88078.64, 'Passat': 106161.94, 'Crossfox': 72832.16}\n",
    "dados"
   ]
  },
  {
   "cell_type": "code",
   "execution_count": 104,
   "metadata": {
    "button": false,
    "colab": {},
    "colab_type": "code",
    "collapsed": false,
    "deletable": true,
    "id": "5zAcGSCbD1Ar",
    "new_sheet": false,
    "run_control": {
     "read_only": false
    }
   },
   "outputs": [
    {
     "data": {
      "text/plain": [
       "[88078.64, 123123123.04, 106161.94, 72832.16]"
      ]
     },
     "execution_count": 104,
     "metadata": {},
     "output_type": "execute_result"
    }
   ],
   "source": [
    "valores = []\n",
    "for valor in dados.values():\n",
    "    valores.append(valor)\n",
    "valores"
   ]
  },
  {
   "cell_type": "code",
   "execution_count": 103,
   "metadata": {
    "button": false,
    "colab": {},
    "colab_type": "code",
    "collapsed": false,
    "deletable": true,
    "id": "zG9_jU_1D1At",
    "new_sheet": false,
    "run_control": {
     "read_only": false
    }
   },
   "outputs": [
    {
     "data": {
      "text/plain": [
       "123390195.78"
      ]
     },
     "execution_count": 103,
     "metadata": {},
     "output_type": "execute_result"
    }
   ],
   "source": [
    "soma = 0\n",
    "for valor in dados.values():\n",
    "    soma += valor\n",
    "soma"
   ]
  },
  {
   "cell_type": "code",
   "execution_count": 105,
   "metadata": {
    "button": false,
    "colab": {},
    "colab_type": "code",
    "collapsed": false,
    "deletable": true,
    "id": "jn0O3uXZD1Au",
    "new_sheet": false,
    "run_control": {
     "read_only": false
    }
   },
   "outputs": [
    {
     "data": {
      "text/plain": [
       "[88078.64, 123123123.04, 106161.94, 72832.16]"
      ]
     },
     "execution_count": 105,
     "metadata": {},
     "output_type": "execute_result"
    }
   ],
   "source": [
    "list(dados.values())"
   ]
  },
  {
   "cell_type": "code",
   "execution_count": 106,
   "metadata": {
    "button": false,
    "colab": {},
    "colab_type": "code",
    "collapsed": false,
    "deletable": true,
    "id": "lnUjKVnoD1Aw",
    "new_sheet": false,
    "run_control": {
     "read_only": false
    }
   },
   "outputs": [
    {
     "data": {
      "text/plain": [
       "123390195.78"
      ]
     },
     "execution_count": 106,
     "metadata": {},
     "output_type": "execute_result"
    }
   ],
   "source": [
    "sum(dados.values())"
   ]
  },
  {
   "cell_type": "code",
   "execution_count": 110,
   "metadata": {
    "button": false,
    "colab": {},
    "colab_type": "code",
    "collapsed": false,
    "deletable": true,
    "id": "WdEuYXe2D1Ay",
    "new_sheet": false,
    "run_control": {
     "read_only": false
    },
    "scrolled": false
   },
   "outputs": [
    {
     "name": "stdout",
     "output_type": "stream",
     "text": [
      "Help on built-in function print in module builtins:\n",
      "\n",
      "print(...)\n",
      "    print(value, ..., sep=' ', end='\\n', file=sys.stdout, flush=False)\n",
      "    \n",
      "    Prints the values to a stream, or to sys.stdout by default.\n",
      "    Optional keyword arguments:\n",
      "    file:  a file-like object (stream); defaults to the current sys.stdout.\n",
      "    sep:   string inserted between values, default a space.\n",
      "    end:   string appended after the last value, default a newline.\n",
      "    flush: whether to forcibly flush the stream.\n",
      "\n"
     ]
    }
   ],
   "source": [
    "help(print)"
   ]
  },
  {
   "cell_type": "code",
   "execution_count": 111,
   "metadata": {
    "button": false,
    "colab": {},
    "colab_type": "code",
    "collapsed": true,
    "deletable": true,
    "id": "hIA29O3tD1Az",
    "new_sheet": false,
    "run_control": {
     "read_only": false
    }
   },
   "outputs": [],
   "source": [
    "print?"
   ]
  },
  {
   "cell_type": "markdown",
   "metadata": {
    "button": false,
    "colab_type": "text",
    "deletable": true,
    "id": "6w62Sl5ZD1A0",
    "new_sheet": false,
    "run_control": {
     "read_only": false
    }
   },
   "source": [
    "# 4.2 Definindo funções sem e com parâmetros"
   ]
  },
  {
   "cell_type": "markdown",
   "metadata": {
    "button": false,
    "colab_type": "text",
    "deletable": true,
    "id": "OADZiBP2D1A0",
    "new_sheet": false,
    "run_control": {
     "read_only": false
    }
   },
   "source": [
    "### Funções sem parâmetros\n",
    "\n",
    "#### Formato padrão\n",
    "\n",
    "```\n",
    "def <nome>():\n",
    "    <instruções>\n",
    "```"
   ]
  },
  {
   "cell_type": "code",
   "execution_count": 112,
   "metadata": {
    "button": false,
    "colab": {},
    "colab_type": "code",
    "collapsed": true,
    "deletable": true,
    "id": "uCkplEpQD1A0",
    "new_sheet": false,
    "run_control": {
     "read_only": false
    }
   },
   "outputs": [],
   "source": [
    "def media():\n",
    "    valor = (1 + 2 + 3)/3\n",
    "    print(valor)"
   ]
  },
  {
   "cell_type": "code",
   "execution_count": 113,
   "metadata": {
    "button": false,
    "colab": {},
    "colab_type": "code",
    "collapsed": false,
    "deletable": true,
    "id": "fOCEGq5VD1A1",
    "new_sheet": false,
    "run_control": {
     "read_only": false
    }
   },
   "outputs": [
    {
     "name": "stdout",
     "output_type": "stream",
     "text": [
      "2.0\n"
     ]
    }
   ],
   "source": [
    "media()"
   ]
  },
  {
   "cell_type": "markdown",
   "metadata": {
    "button": false,
    "colab_type": "text",
    "deletable": true,
    "id": "PwSlYSVAD1A2",
    "new_sheet": false,
    "run_control": {
     "read_only": false
    }
   },
   "source": [
    "### Funções com parâmetros\n",
    "\n",
    "#### Formato padrão\n",
    "\n",
    "```\n",
    "def <nome>(<param_1>, <param_2>, ..., <param_n>):\n",
    "    <instruções>\n",
    "```"
   ]
  },
  {
   "cell_type": "code",
   "execution_count": 119,
   "metadata": {
    "button": false,
    "colab": {},
    "colab_type": "code",
    "collapsed": true,
    "deletable": true,
    "id": "A3YnBUduD1A3",
    "new_sheet": false,
    "run_control": {
     "read_only": false
    }
   },
   "outputs": [],
   "source": [
    "def media(n1, n2, n3):\n",
    "    valor = (n1+n2+n3)/3\n",
    "    print(valor)"
   ]
  },
  {
   "cell_type": "code",
   "execution_count": 120,
   "metadata": {
    "button": false,
    "colab": {},
    "colab_type": "code",
    "collapsed": false,
    "deletable": true,
    "id": "rGUZbRERD1A3",
    "new_sheet": false,
    "run_control": {
     "read_only": false
    }
   },
   "outputs": [
    {
     "name": "stdout",
     "output_type": "stream",
     "text": [
      "4.0\n"
     ]
    }
   ],
   "source": [
    "media(3,4,5)"
   ]
  },
  {
   "cell_type": "code",
   "execution_count": 121,
   "metadata": {
    "button": false,
    "colab": {},
    "colab_type": "code",
    "collapsed": true,
    "deletable": true,
    "id": "B9WDlRE7D1A5",
    "new_sheet": false,
    "run_control": {
     "read_only": false
    }
   },
   "outputs": [],
   "source": [
    "def media(lista):\n",
    "    valor = sum(lista)/len(lista)\n",
    "    print(valor)"
   ]
  },
  {
   "cell_type": "code",
   "execution_count": 126,
   "metadata": {
    "button": false,
    "colab": {},
    "colab_type": "code",
    "collapsed": false,
    "deletable": true,
    "id": "1HAy8OK_D1A6",
    "new_sheet": false,
    "run_control": {
     "read_only": false
    }
   },
   "outputs": [
    {
     "name": "stdout",
     "output_type": "stream",
     "text": [
      "76.66666666666667\n"
     ]
    }
   ],
   "source": [
    "media([32,4,235,25,2,6,346,34,6])"
   ]
  },
  {
   "cell_type": "markdown",
   "metadata": {
    "button": false,
    "colab_type": "text",
    "deletable": true,
    "id": "8zNYrmFbD1A9",
    "new_sheet": false,
    "run_control": {
     "read_only": false
    }
   },
   "source": [
    "# 4.3 Definindo funções que retornam valores"
   ]
  },
  {
   "cell_type": "markdown",
   "metadata": {
    "button": false,
    "colab_type": "text",
    "deletable": true,
    "id": "J44K-dMOD1A9",
    "new_sheet": false,
    "run_control": {
     "read_only": false
    }
   },
   "source": [
    "### Funções que retornam um valor\n",
    "\n",
    "#### Formato padrão\n",
    "\n",
    "```\n",
    "def <nome>(<param_1>, <param_2>, ..., <param_n>):\n",
    "    <instruções>\n",
    "    return <resultado>\n",
    "```"
   ]
  },
  {
   "cell_type": "code",
   "execution_count": 129,
   "metadata": {
    "button": false,
    "colab": {},
    "colab_type": "code",
    "collapsed": true,
    "deletable": true,
    "id": "-UG42RQJD1A9",
    "new_sheet": false,
    "run_control": {
     "read_only": false
    }
   },
   "outputs": [],
   "source": [
    "def media(lista):\n",
    "    valor = sum(lista)/len(lista)\n",
    "    return valor"
   ]
  },
  {
   "cell_type": "code",
   "execution_count": 131,
   "metadata": {
    "button": false,
    "colab": {},
    "colab_type": "code",
    "collapsed": false,
    "deletable": true,
    "id": "VJwdvoT5D1A-",
    "new_sheet": false,
    "run_control": {
     "read_only": false
    }
   },
   "outputs": [],
   "source": [
    "resultado = media([1,2,3,4,5])"
   ]
  },
  {
   "cell_type": "raw",
   "metadata": {
    "button": false,
    "colab": {},
    "colab_type": "code",
    "collapsed": true,
    "deletable": true,
    "id": "AgAeJkpND1A-",
    "new_sheet": false,
    "run_control": {
     "read_only": false
    }
   },
   "source": []
  },
  {
   "cell_type": "code",
   "execution_count": null,
   "metadata": {
    "button": false,
    "colab": {},
    "colab_type": "code",
    "collapsed": true,
    "deletable": true,
    "id": "_r616TevD1A_",
    "new_sheet": false,
    "run_control": {
     "read_only": false
    }
   },
   "outputs": [],
   "source": []
  },
  {
   "cell_type": "markdown",
   "metadata": {
    "button": false,
    "colab_type": "text",
    "deletable": true,
    "id": "MQaK8GV5D1BA",
    "new_sheet": false,
    "run_control": {
     "read_only": false
    }
   },
   "source": [
    "### Funções que retornam mais de um valor\n",
    "\n",
    "#### Formato padrão\n",
    "\n",
    "```\n",
    "def <nome>(<param_1>, <param_2>, ..., <param_n>):\n",
    "    <instruções>\n",
    "    return (<resultado_1>, <resultado_2>, ..., <resultado_n>)\n",
    "```"
   ]
  },
  {
   "cell_type": "code",
   "execution_count": null,
   "metadata": {
    "button": false,
    "colab": {},
    "colab_type": "code",
    "collapsed": true,
    "deletable": true,
    "id": "v0PUMegVD1BA",
    "new_sheet": false,
    "run_control": {
     "read_only": false
    }
   },
   "outputs": [],
   "source": []
  },
  {
   "cell_type": "code",
   "execution_count": null,
   "metadata": {
    "button": false,
    "colab": {},
    "colab_type": "code",
    "collapsed": true,
    "deletable": true,
    "id": "Ys-etom8D1BA",
    "new_sheet": false,
    "run_control": {
     "read_only": false
    }
   },
   "outputs": [],
   "source": []
  },
  {
   "cell_type": "code",
   "execution_count": null,
   "metadata": {
    "button": false,
    "colab": {},
    "colab_type": "code",
    "collapsed": true,
    "deletable": true,
    "id": "LERrvkMHD1BC",
    "new_sheet": false,
    "run_control": {
     "read_only": false
    }
   },
   "outputs": [],
   "source": []
  },
  {
   "cell_type": "code",
   "execution_count": null,
   "metadata": {
    "button": false,
    "colab": {},
    "colab_type": "code",
    "collapsed": true,
    "deletable": true,
    "id": "sqoFOWSsD1BC",
    "new_sheet": false,
    "run_control": {
     "read_only": false
    }
   },
   "outputs": [],
   "source": []
  },
  {
   "cell_type": "code",
   "execution_count": null,
   "metadata": {
    "button": false,
    "colab": {},
    "colab_type": "code",
    "collapsed": true,
    "deletable": true,
    "id": "NdB_Jyw_D1BD",
    "new_sheet": false,
    "run_control": {
     "read_only": false
    }
   },
   "outputs": [],
   "source": []
  },
  {
   "cell_type": "markdown",
   "metadata": {
    "button": false,
    "colab_type": "text",
    "deletable": true,
    "id": "uQ5lNnKrD1BD",
    "new_sheet": false,
    "run_control": {
     "read_only": false
    }
   },
   "source": [
    "# <font color=green> 5. PANDAS BÁSICO\n",
    "---\n",
    "\n",
    "**versão: 0.25.2**\n",
    "  \n",
    "Pandas é uma ferramenta de manipulação de dados de alto nível, construída com base no pacote Numpy. O pacote pandas possui estruturas de dados bastante interessantes para manipulação de dados e por isso é muito utilizado por cientistas de dados.\n",
    "\n",
    "\n",
    "## Estruturas de Dados\n",
    "\n",
    "### Series\n",
    "\n",
    "Series são arrays unidimensionais rotulados capazes de armazenar qualquer tipo de dado. Os rótulos das linhas são chamados de **index**. A forma básica de criação de uma Series é a seguinte:\n",
    "\n",
    "\n",
    "```\n",
    "    s = pd.Series(dados, index = index)\n",
    "```\n",
    "\n",
    "O argumento *dados* pode ser um dicionário, uma lista, um array Numpy ou uma constante.\n",
    "\n",
    "### DataFrames\n",
    "\n",
    "DataFrame é uma estrutura de dados tabular bidimensional com rótulos nas linha e colunas. Como a Series, os DataFrames são capazes de armazenar qualquer tipo de dados.\n",
    "\n",
    "\n",
    "```\n",
    "    df = pd.DataFrame(dados, index = index, columns = columns)\n",
    "```\n",
    "\n",
    "O argumento *dados* pode ser um dicionário, uma lista, um array Numpy, uma Series e outro DataFrame.\n",
    "\n",
    "**Documentação:** https://pandas.pydata.org/pandas-docs/version/0.25/"
   ]
  },
  {
   "cell_type": "markdown",
   "metadata": {
    "button": false,
    "colab_type": "text",
    "deletable": true,
    "id": "2qa7RC03D1BD",
    "new_sheet": false,
    "run_control": {
     "read_only": false
    }
   },
   "source": [
    "# 5.1 Estruturas de dados"
   ]
  },
  {
   "cell_type": "code",
   "execution_count": null,
   "metadata": {
    "button": false,
    "colab": {},
    "colab_type": "code",
    "collapsed": true,
    "deletable": true,
    "id": "4QyFDeS4D1BD",
    "new_sheet": false,
    "run_control": {
     "read_only": false
    }
   },
   "outputs": [],
   "source": []
  },
  {
   "cell_type": "markdown",
   "metadata": {
    "button": false,
    "colab_type": "text",
    "deletable": true,
    "id": "kIey8_OcD1BF",
    "new_sheet": false,
    "run_control": {
     "read_only": false
    }
   },
   "source": [
    "### Criando uma Series a partir de uma lista"
   ]
  },
  {
   "cell_type": "code",
   "execution_count": null,
   "metadata": {
    "button": false,
    "colab": {},
    "colab_type": "code",
    "collapsed": true,
    "deletable": true,
    "id": "yEZR6DWiD1BF",
    "new_sheet": false,
    "run_control": {
     "read_only": false
    }
   },
   "outputs": [],
   "source": []
  },
  {
   "cell_type": "code",
   "execution_count": null,
   "metadata": {
    "button": false,
    "colab": {},
    "colab_type": "code",
    "collapsed": true,
    "deletable": true,
    "id": "rLudWKZ_D1BF",
    "new_sheet": false,
    "run_control": {
     "read_only": false
    }
   },
   "outputs": [],
   "source": []
  },
  {
   "cell_type": "markdown",
   "metadata": {
    "button": false,
    "colab_type": "text",
    "deletable": true,
    "id": "VYVIKd1-D1BG",
    "new_sheet": false,
    "run_control": {
     "read_only": false
    }
   },
   "source": [
    "### Criando um DataFrame a partir de uma lista de dicionários"
   ]
  },
  {
   "cell_type": "code",
   "execution_count": 49,
   "metadata": {
    "button": false,
    "colab": {},
    "colab_type": "code",
    "collapsed": true,
    "deletable": true,
    "id": "QFNS9PckD1BG",
    "new_sheet": false,
    "run_control": {
     "read_only": false
    }
   },
   "outputs": [],
   "source": [
    "dados = [\n",
    "    {'Nome': 'Jetta Variant', 'Motor': 'Motor 4.0 Turbo', 'Ano': 2003, 'Quilometragem': 44410.0, 'Zero_km': False, 'Valor': 88078.64},\n",
    "    {'Nome': 'Passat', 'Motor': 'Motor Diesel', 'Ano': 1991, 'Quilometragem': 5712.0, 'Zero_km': False, 'Valor': 106161.94},\n",
    "    {'Nome': 'Crossfox', 'Motor': 'Motor Diesel V8', 'Ano': 1990, 'Quilometragem': 37123.0, 'Zero_km': False, 'Valor': 72832.16}\n",
    "]"
   ]
  },
  {
   "cell_type": "code",
   "execution_count": null,
   "metadata": {
    "button": false,
    "colab": {},
    "colab_type": "code",
    "collapsed": true,
    "deletable": true,
    "id": "WDQb9AnKD1BH",
    "new_sheet": false,
    "run_control": {
     "read_only": false
    }
   },
   "outputs": [],
   "source": []
  },
  {
   "cell_type": "code",
   "execution_count": null,
   "metadata": {
    "button": false,
    "colab": {},
    "colab_type": "code",
    "collapsed": true,
    "deletable": true,
    "id": "-2-jGvmGD1BI",
    "new_sheet": false,
    "run_control": {
     "read_only": false
    }
   },
   "outputs": [],
   "source": []
  },
  {
   "cell_type": "code",
   "execution_count": null,
   "metadata": {
    "button": false,
    "colab": {},
    "colab_type": "code",
    "collapsed": true,
    "deletable": true,
    "id": "2kbyOThiD1BJ",
    "new_sheet": false,
    "run_control": {
     "read_only": false
    }
   },
   "outputs": [],
   "source": []
  },
  {
   "cell_type": "markdown",
   "metadata": {
    "button": false,
    "colab_type": "text",
    "deletable": true,
    "id": "pJK2tQgYD1BK",
    "new_sheet": false,
    "run_control": {
     "read_only": false
    }
   },
   "source": [
    "### Criando um DataFrame a partir de um dicionário"
   ]
  },
  {
   "cell_type": "code",
   "execution_count": 50,
   "metadata": {
    "button": false,
    "colab": {},
    "colab_type": "code",
    "collapsed": true,
    "deletable": true,
    "id": "WKNQwKucD1BK",
    "new_sheet": false,
    "run_control": {
     "read_only": false
    }
   },
   "outputs": [],
   "source": [
    "dados = {\n",
    "    'Nome': ['Jetta Variant', 'Passat', 'Crossfox'], \n",
    "    'Motor': ['Motor 4.0 Turbo', 'Motor Diesel', 'Motor Diesel V8'],\n",
    "    'Ano': [2003, 1991, 1990],\n",
    "    'Quilometragem': [44410.0, 5712.0, 37123.0],\n",
    "    'Zero_km': [False, False, False],\n",
    "    'Valor': [88078.64, 106161.94, 72832.16]\n",
    "}"
   ]
  },
  {
   "cell_type": "code",
   "execution_count": null,
   "metadata": {
    "button": false,
    "colab": {},
    "colab_type": "code",
    "collapsed": true,
    "deletable": true,
    "id": "lKnuZfzcD1BK",
    "new_sheet": false,
    "run_control": {
     "read_only": false
    }
   },
   "outputs": [],
   "source": []
  },
  {
   "cell_type": "code",
   "execution_count": null,
   "metadata": {
    "button": false,
    "colab": {},
    "colab_type": "code",
    "collapsed": true,
    "deletable": true,
    "id": "PNqTytC-D1BL",
    "new_sheet": false,
    "run_control": {
     "read_only": false
    }
   },
   "outputs": [],
   "source": []
  },
  {
   "cell_type": "markdown",
   "metadata": {
    "button": false,
    "colab_type": "text",
    "deletable": true,
    "id": "fCCXs0reD1BL",
    "new_sheet": false,
    "run_control": {
     "read_only": false
    }
   },
   "source": [
    "### Criando um DataFrame a partir de uma arquivo externo"
   ]
  },
  {
   "cell_type": "code",
   "execution_count": null,
   "metadata": {
    "button": false,
    "colab": {},
    "colab_type": "code",
    "collapsed": true,
    "deletable": true,
    "id": "78PRHGeZD1BL",
    "new_sheet": false,
    "run_control": {
     "read_only": false
    }
   },
   "outputs": [],
   "source": []
  },
  {
   "cell_type": "code",
   "execution_count": null,
   "metadata": {
    "button": false,
    "colab": {},
    "colab_type": "code",
    "collapsed": true,
    "deletable": true,
    "id": "1o1YlnVPD1BM",
    "new_sheet": false,
    "run_control": {
     "read_only": false
    },
    "scrolled": true
   },
   "outputs": [],
   "source": []
  },
  {
   "cell_type": "markdown",
   "metadata": {
    "button": false,
    "colab_type": "text",
    "deletable": true,
    "id": "y5V-1AK-D1BN",
    "new_sheet": false,
    "run_control": {
     "read_only": false
    }
   },
   "source": [
    "# 5.2 Seleções com DataFrames"
   ]
  },
  {
   "cell_type": "markdown",
   "metadata": {
    "button": false,
    "colab_type": "text",
    "deletable": true,
    "id": "wZjqlHe9D1BN",
    "new_sheet": false,
    "run_control": {
     "read_only": false
    }
   },
   "source": [
    "### Selecionando colunas"
   ]
  },
  {
   "cell_type": "code",
   "execution_count": null,
   "metadata": {
    "button": false,
    "colab": {},
    "colab_type": "code",
    "collapsed": true,
    "deletable": true,
    "id": "gM3LbtzlD1BN",
    "new_sheet": false,
    "run_control": {
     "read_only": false
    },
    "scrolled": true
   },
   "outputs": [],
   "source": []
  },
  {
   "cell_type": "code",
   "execution_count": null,
   "metadata": {
    "button": false,
    "colab": {},
    "colab_type": "code",
    "collapsed": true,
    "deletable": true,
    "id": "R2FWgCM_D1BO",
    "new_sheet": false,
    "run_control": {
     "read_only": false
    }
   },
   "outputs": [],
   "source": []
  },
  {
   "cell_type": "code",
   "execution_count": null,
   "metadata": {
    "button": false,
    "colab": {},
    "colab_type": "code",
    "collapsed": true,
    "deletable": true,
    "id": "lCCumsxsD1BP",
    "new_sheet": false,
    "run_control": {
     "read_only": false
    },
    "scrolled": true
   },
   "outputs": [],
   "source": []
  },
  {
   "cell_type": "code",
   "execution_count": null,
   "metadata": {
    "button": false,
    "colab": {},
    "colab_type": "code",
    "collapsed": true,
    "deletable": true,
    "id": "zxlyC3B8D1BP",
    "new_sheet": false,
    "run_control": {
     "read_only": false
    }
   },
   "outputs": [],
   "source": []
  },
  {
   "cell_type": "markdown",
   "metadata": {
    "button": false,
    "colab_type": "text",
    "deletable": true,
    "id": "7RPXPm1XD1BQ",
    "new_sheet": false,
    "run_control": {
     "read_only": false
    }
   },
   "source": [
    "### Selecionando linhas - [ i : j ] \n",
    "\n",
    "<font color=red>**Observação:**</font> A indexação tem origem no zero e nos fatiamentos (*slices*) a linha com índice i é **incluída** e a linha com índice j **não é incluída** no resultado."
   ]
  },
  {
   "cell_type": "code",
   "execution_count": null,
   "metadata": {
    "button": false,
    "colab": {},
    "colab_type": "code",
    "collapsed": true,
    "deletable": true,
    "id": "PdDUwPw3D1BQ",
    "new_sheet": false,
    "run_control": {
     "read_only": false
    }
   },
   "outputs": [],
   "source": []
  },
  {
   "cell_type": "markdown",
   "metadata": {
    "button": false,
    "colab_type": "text",
    "deletable": true,
    "id": "G3DMSk97D1BR",
    "new_sheet": false,
    "run_control": {
     "read_only": false
    }
   },
   "source": [
    "### Utilizando .loc para seleções\n",
    "\n",
    "<font color=red>**Observação:**</font> Seleciona um grupo de linhas e colunas segundo os rótulos ou uma matriz booleana."
   ]
  },
  {
   "cell_type": "code",
   "execution_count": null,
   "metadata": {
    "button": false,
    "colab": {},
    "colab_type": "code",
    "collapsed": true,
    "deletable": true,
    "id": "Ftg-hNOoD1BR",
    "new_sheet": false,
    "run_control": {
     "read_only": false
    }
   },
   "outputs": [],
   "source": []
  },
  {
   "cell_type": "code",
   "execution_count": null,
   "metadata": {
    "button": false,
    "colab": {},
    "colab_type": "code",
    "collapsed": true,
    "deletable": true,
    "id": "xdxkDrHvD1BS",
    "new_sheet": false,
    "run_control": {
     "read_only": false
    }
   },
   "outputs": [],
   "source": []
  },
  {
   "cell_type": "code",
   "execution_count": null,
   "metadata": {
    "button": false,
    "colab": {},
    "colab_type": "code",
    "collapsed": true,
    "deletable": true,
    "id": "pMN3U1KjD1BS",
    "new_sheet": false,
    "run_control": {
     "read_only": false
    }
   },
   "outputs": [],
   "source": []
  },
  {
   "cell_type": "code",
   "execution_count": null,
   "metadata": {
    "button": false,
    "colab": {},
    "colab_type": "code",
    "collapsed": true,
    "deletable": true,
    "id": "oOEO72uZD1BT",
    "new_sheet": false,
    "run_control": {
     "read_only": false
    },
    "scrolled": true
   },
   "outputs": [],
   "source": []
  },
  {
   "cell_type": "markdown",
   "metadata": {
    "button": false,
    "colab_type": "text",
    "deletable": true,
    "id": "SYKEe3vCD1BT",
    "new_sheet": false,
    "run_control": {
     "read_only": false
    }
   },
   "source": [
    "### Utilizando .iloc para seleções\n",
    "\n",
    "<font color=red>**Observação:**</font> Seleciona com base nos índices, ou seja, se baseia na posição das informações."
   ]
  },
  {
   "cell_type": "code",
   "execution_count": null,
   "metadata": {
    "button": false,
    "colab": {},
    "colab_type": "code",
    "collapsed": true,
    "deletable": true,
    "id": "U4Bru90bD1BT",
    "new_sheet": false,
    "run_control": {
     "read_only": false
    }
   },
   "outputs": [],
   "source": []
  },
  {
   "cell_type": "code",
   "execution_count": null,
   "metadata": {
    "button": false,
    "colab": {},
    "colab_type": "code",
    "collapsed": true,
    "deletable": true,
    "id": "iLKUyrzND1BU",
    "new_sheet": false,
    "run_control": {
     "read_only": false
    }
   },
   "outputs": [],
   "source": []
  },
  {
   "cell_type": "code",
   "execution_count": null,
   "metadata": {
    "button": false,
    "colab": {},
    "colab_type": "code",
    "collapsed": true,
    "deletable": true,
    "id": "KGZpixYUD1BU",
    "new_sheet": false,
    "run_control": {
     "read_only": false
    }
   },
   "outputs": [],
   "source": []
  },
  {
   "cell_type": "code",
   "execution_count": null,
   "metadata": {
    "button": false,
    "colab": {},
    "colab_type": "code",
    "collapsed": true,
    "deletable": true,
    "id": "GxdqIz4LD1BV",
    "new_sheet": false,
    "run_control": {
     "read_only": false
    }
   },
   "outputs": [],
   "source": []
  },
  {
   "cell_type": "code",
   "execution_count": null,
   "metadata": {
    "button": false,
    "colab": {},
    "colab_type": "code",
    "collapsed": true,
    "deletable": true,
    "id": "AVIhs7uLD1BW",
    "new_sheet": false,
    "run_control": {
     "read_only": false
    },
    "scrolled": true
   },
   "outputs": [],
   "source": []
  },
  {
   "cell_type": "markdown",
   "metadata": {
    "button": false,
    "colab_type": "text",
    "deletable": true,
    "id": "eAbwq1oLD1BW",
    "new_sheet": false,
    "run_control": {
     "read_only": false
    }
   },
   "source": [
    "# 5.3 Queries com DataFrames"
   ]
  },
  {
   "cell_type": "code",
   "execution_count": null,
   "metadata": {
    "button": false,
    "colab": {},
    "colab_type": "code",
    "collapsed": true,
    "deletable": true,
    "id": "AOZTWzehD1BW",
    "new_sheet": false,
    "run_control": {
     "read_only": false
    },
    "scrolled": true
   },
   "outputs": [],
   "source": []
  },
  {
   "cell_type": "code",
   "execution_count": null,
   "metadata": {
    "button": false,
    "colab": {},
    "colab_type": "code",
    "collapsed": true,
    "deletable": true,
    "id": "rO5T4h94D1BX",
    "new_sheet": false,
    "run_control": {
     "read_only": false
    },
    "scrolled": true
   },
   "outputs": [],
   "source": []
  },
  {
   "cell_type": "code",
   "execution_count": null,
   "metadata": {
    "button": false,
    "colab": {},
    "colab_type": "code",
    "collapsed": true,
    "deletable": true,
    "id": "STZ-l8oaD1BX",
    "new_sheet": false,
    "run_control": {
     "read_only": false
    }
   },
   "outputs": [],
   "source": []
  },
  {
   "cell_type": "code",
   "execution_count": null,
   "metadata": {
    "button": false,
    "colab": {},
    "colab_type": "code",
    "collapsed": true,
    "deletable": true,
    "id": "OZC8NAn6D1BX",
    "new_sheet": false,
    "run_control": {
     "read_only": false
    }
   },
   "outputs": [],
   "source": []
  },
  {
   "cell_type": "code",
   "execution_count": null,
   "metadata": {
    "button": false,
    "colab": {},
    "colab_type": "code",
    "collapsed": true,
    "deletable": true,
    "id": "OzXC2M40D1BY",
    "new_sheet": false,
    "run_control": {
     "read_only": false
    },
    "scrolled": true
   },
   "outputs": [],
   "source": []
  },
  {
   "cell_type": "markdown",
   "metadata": {
    "button": false,
    "colab_type": "text",
    "deletable": true,
    "id": "_XKXcWO-D1BY",
    "new_sheet": false,
    "run_control": {
     "read_only": false
    }
   },
   "source": [
    "### Utilizando o método query"
   ]
  },
  {
   "cell_type": "code",
   "execution_count": null,
   "metadata": {
    "button": false,
    "colab": {},
    "colab_type": "code",
    "collapsed": true,
    "deletable": true,
    "id": "AB9JirSoD1BY",
    "new_sheet": false,
    "run_control": {
     "read_only": false
    }
   },
   "outputs": [],
   "source": []
  },
  {
   "cell_type": "markdown",
   "metadata": {
    "button": false,
    "colab_type": "text",
    "deletable": true,
    "id": "ciJ4dw_FD1BZ",
    "new_sheet": false,
    "run_control": {
     "read_only": false
    }
   },
   "source": [
    "# 5.4 Iterando com DataFrames"
   ]
  },
  {
   "cell_type": "code",
   "execution_count": null,
   "metadata": {
    "button": false,
    "colab": {},
    "colab_type": "code",
    "collapsed": true,
    "deletable": true,
    "id": "TKAB-g5KD1BZ",
    "new_sheet": false,
    "run_control": {
     "read_only": false
    }
   },
   "outputs": [],
   "source": []
  },
  {
   "cell_type": "code",
   "execution_count": null,
   "metadata": {
    "button": false,
    "colab": {},
    "colab_type": "code",
    "collapsed": true,
    "deletable": true,
    "id": "eFTNtPRWD1Ba",
    "new_sheet": false,
    "run_control": {
     "read_only": false
    }
   },
   "outputs": [],
   "source": []
  },
  {
   "cell_type": "markdown",
   "metadata": {
    "button": false,
    "colab_type": "text",
    "deletable": true,
    "id": "HnUzHFQPD1Ba",
    "new_sheet": false,
    "run_control": {
     "read_only": false
    }
   },
   "source": [
    "# 5.5 Tratamento de dados"
   ]
  },
  {
   "cell_type": "code",
   "execution_count": null,
   "metadata": {
    "button": false,
    "colab": {},
    "colab_type": "code",
    "collapsed": true,
    "deletable": true,
    "id": "FRxBWoBGD1Ba",
    "new_sheet": false,
    "run_control": {
     "read_only": false
    }
   },
   "outputs": [],
   "source": []
  },
  {
   "cell_type": "code",
   "execution_count": null,
   "metadata": {
    "button": false,
    "colab": {},
    "colab_type": "code",
    "collapsed": true,
    "deletable": true,
    "id": "HHSwH0ZaD1Bc",
    "new_sheet": false,
    "run_control": {
     "read_only": false
    }
   },
   "outputs": [],
   "source": []
  },
  {
   "cell_type": "code",
   "execution_count": null,
   "metadata": {
    "button": false,
    "colab": {},
    "colab_type": "code",
    "collapsed": true,
    "deletable": true,
    "id": "G27pxgZ5D1Bd",
    "new_sheet": false,
    "run_control": {
     "read_only": false
    },
    "scrolled": true
   },
   "outputs": [],
   "source": []
  },
  {
   "cell_type": "code",
   "execution_count": null,
   "metadata": {
    "button": false,
    "colab": {},
    "colab_type": "code",
    "collapsed": true,
    "deletable": true,
    "id": "DhlRbxy2D1Bd",
    "new_sheet": false,
    "run_control": {
     "read_only": false
    },
    "scrolled": true
   },
   "outputs": [],
   "source": []
  },
  {
   "cell_type": "code",
   "execution_count": null,
   "metadata": {
    "button": false,
    "colab": {},
    "colab_type": "code",
    "collapsed": true,
    "deletable": true,
    "id": "OL04QU5RD1Be",
    "new_sheet": false,
    "run_control": {
     "read_only": false
    }
   },
   "outputs": [],
   "source": []
  },
  {
   "cell_type": "code",
   "execution_count": null,
   "metadata": {
    "button": false,
    "colab": {},
    "colab_type": "code",
    "collapsed": true,
    "deletable": true,
    "id": "fTH2JkGDD1Bf",
    "new_sheet": false,
    "run_control": {
     "read_only": false
    },
    "scrolled": true
   },
   "outputs": [],
   "source": []
  },
  {
   "cell_type": "code",
   "execution_count": null,
   "metadata": {
    "button": false,
    "colab": {},
    "colab_type": "code",
    "collapsed": true,
    "deletable": true,
    "id": "lure2GvpD1Bg",
    "new_sheet": false,
    "run_control": {
     "read_only": false
    }
   },
   "outputs": [],
   "source": []
  },
  {
   "cell_type": "code",
   "execution_count": null,
   "metadata": {
    "button": false,
    "colab": {},
    "colab_type": "code",
    "collapsed": true,
    "deletable": true,
    "id": "4-ZvhXjvD1Bj",
    "new_sheet": false,
    "run_control": {
     "read_only": false
    }
   },
   "outputs": [],
   "source": []
  },
  {
   "cell_type": "code",
   "execution_count": null,
   "metadata": {
    "button": false,
    "colab": {},
    "colab_type": "code",
    "collapsed": true,
    "deletable": true,
    "id": "MQUw7i1OD1Bk",
    "new_sheet": false,
    "run_control": {
     "read_only": false
    },
    "scrolled": true
   },
   "outputs": [],
   "source": []
  },
  {
   "cell_type": "code",
   "execution_count": null,
   "metadata": {
    "button": false,
    "colab": {},
    "colab_type": "code",
    "collapsed": true,
    "deletable": true,
    "id": "U4Cse7miD1Bl",
    "new_sheet": false,
    "run_control": {
     "read_only": false
    }
   },
   "outputs": [],
   "source": []
  },
  {
   "cell_type": "code",
   "execution_count": null,
   "metadata": {
    "button": false,
    "colab": {},
    "colab_type": "code",
    "collapsed": true,
    "deletable": true,
    "id": "8L4wum05D1Bl",
    "new_sheet": false,
    "run_control": {
     "read_only": false
    },
    "scrolled": true
   },
   "outputs": [],
   "source": []
  },
  {
   "cell_type": "code",
   "execution_count": null,
   "metadata": {
    "button": false,
    "colab": {},
    "colab_type": "code",
    "collapsed": true,
    "deletable": true,
    "id": "8iLOc-U3D1Bm",
    "new_sheet": false,
    "run_control": {
     "read_only": false
    }
   },
   "outputs": [],
   "source": []
  }
 ],
 "metadata": {
  "colab": {
   "name": "Python para Data Science - Pandas.ipynb",
   "provenance": []
  },
  "kernel_info": {
   "name": "python3"
  },
  "kernelspec": {
   "display_name": "Python 3",
   "language": "python",
   "name": "python3"
  },
  "language_info": {
   "codemirror_mode": {
    "name": "ipython",
    "version": 3
   },
   "file_extension": ".py",
   "mimetype": "text/x-python",
   "name": "python",
   "nbconvert_exporter": "python",
   "pygments_lexer": "ipython3",
   "version": "3.5.0"
  },
  "nteract": {
   "version": "0.15.0"
  }
 },
 "nbformat": 4,
 "nbformat_minor": 1
}
