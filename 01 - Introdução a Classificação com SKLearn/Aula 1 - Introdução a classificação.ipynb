{
 "cells": [
  {
   "cell_type": "code",
   "execution_count": 1,
   "metadata": {},
   "outputs": [],
   "source": [
    "from sklearn.svm import LinearSVC\n",
    "import numpy as np"
   ]
  },
  {
   "cell_type": "markdown",
   "metadata": {},
   "source": [
    "### Caracteristicas que queremos classificar:\n",
    "1. Tem pelo longo?\n",
    "2. Tem perna curta?\n",
    "3. Faz AUAU?"
   ]
  },
  {
   "cell_type": "code",
   "execution_count": 2,
   "metadata": {},
   "outputs": [],
   "source": [
    "porco1 = [0, 1, 0]\n",
    "porco2 = [0, 1, 1]\n",
    "porco3 = [1, 1, 0]\n",
    "\n",
    "cachorro1 = [0, 1, 1]\n",
    "cachorro2 = [1, 0, 1]\n",
    "cachorro3 = [1, 1, 1]\n",
    "\n",
    "tradutor = np.vectorize(lambda animal: \"Porco\" if animal == 0 else \"Cachorro\")\n",
    "\n",
    "treino_x = [porco1, porco2, porco3, cachorro1, cachorro2, cachorro3]\n",
    "treino_y = [1, 1, 1, 0, 0, 0]"
   ]
  },
  {
   "cell_type": "markdown",
   "metadata": {},
   "source": [
    "#### Criando o modelo utilizando o algoritmo LinearSVC"
   ]
  },
  {
   "cell_type": "code",
   "execution_count": 3,
   "metadata": {},
   "outputs": [
    {
     "name": "stdout",
     "output_type": "stream",
     "text": [
      "['Porco']\n"
     ]
    }
   ],
   "source": [
    "model = LinearSVC()\n",
    "model.fit(treino_x, treino_y)\n",
    "animal_misterioso = [1,1,1]\n",
    "previsao = model.predict([animal_misterioso])\n",
    "print(tradutor(previsao))"
   ]
  },
  {
   "cell_type": "markdown",
   "metadata": {},
   "source": [
    "#### Utilizando o modelo para mais dados"
   ]
  },
  {
   "cell_type": "code",
   "execution_count": 4,
   "metadata": {},
   "outputs": [
    {
     "name": "stdout",
     "output_type": "stream",
     "text": [
      "Classificacoes esperadas: ['Porco' 'Cachorro' 'Cachorro']\n",
      "Classificacoes previstas pelo modelo: ['Porco' 'Cachorro' 'Porco']\n"
     ]
    }
   ],
   "source": [
    "misterio1 = [1,1,1]\n",
    "misterio2 = [1,1,0]\n",
    "misterio3 = [0,1,1]\n",
    "\n",
    "teste_x = [misterio1, misterio2, misterio3]\n",
    "teste_y = [0, 1, 1] # Resultado esperado\n",
    "\n",
    "previsoes = model.predict(teste_x)\n",
    "previsoes\n",
    "\n",
    "print(f\"Classificacoes esperadas: {tradutor(teste_y)}\")\n",
    "print(f\"Classificacoes previstas pelo modelo: {tradutor(previsoes)}\")"
   ]
  },
  {
   "cell_type": "markdown",
   "metadata": {},
   "source": [
    "#### Calculando acertos manualmente"
   ]
  },
  {
   "cell_type": "code",
   "execution_count": 7,
   "metadata": {},
   "outputs": [
    {
     "name": "stdout",
     "output_type": "stream",
     "text": [
      "Taxa de acerto: 66.67%\n"
     ]
    }
   ],
   "source": [
    "corretos = (previsoes == teste_y).sum()\n",
    "total = len(teste_x)\n",
    "taxa_de_acerto = corretos/total\n",
    "print(f\"Taxa de acerto: {(taxa_de_acerto * 100):.2f}%\")"
   ]
  },
  {
   "cell_type": "markdown",
   "metadata": {},
   "source": [
    "#### Taxa de acerto utilizando função da biblioteca"
   ]
  },
  {
   "cell_type": "code",
   "execution_count": 8,
   "metadata": {},
   "outputs": [
    {
     "name": "stdout",
     "output_type": "stream",
     "text": [
      "Taxa de acerto: 66.67%\n"
     ]
    }
   ],
   "source": [
    "from sklearn.metrics import accuracy_score\n",
    "\n",
    "taxa_de_acerto = accuracy_score(teste_y, previsoes)\n",
    "print(f\"Taxa de acerto: {(taxa_de_acerto * 100):.2f}%\")"
   ]
  }
 ],
 "metadata": {
  "kernelspec": {
   "display_name": "Python 3",
   "language": "python",
   "name": "python3"
  },
  "language_info": {
   "codemirror_mode": {
    "name": "ipython",
    "version": 3
   },
   "file_extension": ".py",
   "mimetype": "text/x-python",
   "name": "python",
   "nbconvert_exporter": "python",
   "pygments_lexer": "ipython3",
   "version": "3.7.4"
  }
 },
 "nbformat": 4,
 "nbformat_minor": 4
}
